{
 "cells": [
  {
   "cell_type": "markdown",
   "metadata": {},
   "source": [
    "#### 사이트별로 비밀번호를 만들어주는 프로그램 작성\n",
    "- 규칙 1 : http:// 부분은 제외\n",
    "- 규칙 2 : 처음 만나는 점(.) 이후 부분은 제외\n",
    "- 규칙 3 : 남은 글자 중 처음 세 자리 + 글자수 + 글자내 'e'개수 + \"!\"로 구성"
   ]
  },
  {
   "cell_type": "code",
   "execution_count": 5,
   "metadata": {},
   "outputs": [
    {
     "ename": "SyntaxError",
     "evalue": "invalid syntax (<ipython-input-5-547858695b86>, line 3)",
     "output_type": "error",
     "traceback": [
      "\u001b[1;36m  File \u001b[1;32m\"<ipython-input-5-547858695b86>\"\u001b[1;36m, line \u001b[1;32m3\u001b[0m\n\u001b[1;33m    a = http://naver.com\u001b[0m\n\u001b[1;37m            ^\u001b[0m\n\u001b[1;31mSyntaxError\u001b[0m\u001b[1;31m:\u001b[0m invalid syntax\n"
     ]
    }
   ],
   "source": [
    "# http://naver.com\n",
    "\n",
    "a = http://naver.com\n",
    "del a[:7]\n",
    "print(a)"
   ]
  },
  {
   "cell_type": "code",
   "execution_count": null,
   "metadata": {},
   "outputs": [],
   "source": []
  }
 ],
 "metadata": {
  "interpreter": {
   "hash": "57728f4bfd9bc978c25d5c9cdcf277be28bad00a01dc89349b2fca774db23ac6"
  },
  "kernelspec": {
   "display_name": "Python 3.8.8 64-bit ('base': conda)",
   "language": "python",
   "name": "python3"
  },
  "language_info": {
   "codemirror_mode": {
    "name": "ipython",
    "version": 3
   },
   "file_extension": ".py",
   "mimetype": "text/x-python",
   "name": "python",
   "nbconvert_exporter": "python",
   "pygments_lexer": "ipython3",
   "version": "3.8.8"
  },
  "orig_nbformat": 4
 },
 "nbformat": 4,
 "nbformat_minor": 2
}
