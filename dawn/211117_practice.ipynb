{
 "cells": [
  {
   "cell_type": "markdown",
   "metadata": {},
   "source": [
    "### 리스트 데이터 타입"
   ]
  },
  {
   "cell_type": "code",
   "execution_count": 10,
   "metadata": {},
   "outputs": [
    {
     "name": "stdout",
     "output_type": "stream",
     "text": [
      "students[1] sori\n",
      "len(students) 3\n",
      "min(grades) 1\n",
      "max(grades) 4\n",
      "statistics.mean(grades) 2.3333333333333335\n",
      "random.choice(students) maru\n"
     ]
    }
   ],
   "source": [
    "students = [\"egoing\", \"sori\", \"maru\"]\n",
    "grades = [2,1,4]\n",
    "print(\"students[1]\", students[1])\n",
    "print(\"len(students)\", len(students))\n",
    "print(\"min(grades)\", min(grades))\n",
    "print(\"max(grades)\", max(grades))\n",
    "\n",
    "import statistics\n",
    "print(\"statistics.mean(grades)\", statistics.mean(grades)) # mean은 평균\n",
    "\n",
    "import random\n",
    "print(\"random.choice(students)\", random.choice(students))"
   ]
  },
  {
   "cell_type": "markdown",
   "metadata": {},
   "source": [
    "### 변수"
   ]
  },
  {
   "cell_type": "code",
   "execution_count": 12,
   "metadata": {},
   "outputs": [
    {
     "name": "stdout",
     "output_type": "stream",
     "text": [
      "hi, sori ... bye, sori.\n"
     ]
    }
   ],
   "source": [
    "name = 'sori'\n",
    "message = 'hi, '+name+' ... bye, '+name+'.'\n",
    "print(message)"
   ]
  },
  {
   "cell_type": "markdown",
   "metadata": {},
   "source": [
    "### 반복문"
   ]
  },
  {
   "cell_type": "code",
   "execution_count": 13,
   "metadata": {},
   "outputs": [
    {
     "name": "stdout",
     "output_type": "stream",
     "text": [
      "Hi, egoing , Bye, egoing.\n",
      "Hi, basta , Bye, basta.\n",
      "Hi, blackdew , Bye, blackdew.\n"
     ]
    }
   ],
   "source": [
    "# for value in [리스트]\n",
    "names = ['egoing', 'basta', 'blackdew']\n",
    "for name in names: # in 뒤에는 리스트, 앞에는 순차적으로 실행시킬 원소\n",
    "    print('Hi, '+name+' , Bye, '+name+'.')"
   ]
  },
  {
   "cell_type": "markdown",
   "metadata": {},
   "source": [
    "### 다차원 리스트를 반복문으로 처리"
   ]
  },
  {
   "cell_type": "code",
   "execution_count": 17,
   "metadata": {},
   "outputs": [
    {
     "name": "stdout",
     "output_type": "stream",
     "text": [
      "egoing\n",
      "egoing,Seoul,Web\n",
      "basta,Seoul,IOT\n",
      "blackdew,Tongyeong,ML\n",
      "egoing Seoul Web\n",
      "egoing Seoul Web\n",
      "egoing,Seoul,Web\n",
      "basta,Seoul,IOT\n",
      "blackdew,Tongyeong,ML\n"
     ]
    }
   ],
   "source": [
    "persons = [\n",
    "    ['egoing', 'Seoul', 'Web'],\n",
    "    ['basta', 'Seoul', 'IOT'],\n",
    "    ['blackdew', 'Tongyeong', 'ML'],\n",
    "]\n",
    "print(persons[0][0])\n",
    "\n",
    "for person in persons:\n",
    "    print(person[0]+','+person[1]+','+person[2])\n",
    "\n",
    "\n",
    "person = ['egoing', 'Seoul', 'Web']\n",
    "name = person[0]\n",
    "address = person[1]\n",
    "interest = person[2]\n",
    "print(name, address, interest)\n",
    "\n",
    "name, address, interest = ['egoing', 'Seoul', 'Web']\n",
    "print(name, address, interest)\n",
    " \n",
    "for name, address, interest in persons:\n",
    "    print(name+','+address+','+interest)"
   ]
  },
  {
   "cell_type": "markdown",
   "metadata": {},
   "source": [
    "### 딕셔너리"
   ]
  },
  {
   "cell_type": "code",
   "execution_count": null,
   "metadata": {},
   "outputs": [],
   "source": [
    "person = {'name':'egoing', 'address':'Seoul', 'interest':'Web'}\n",
    "print(person['name'])\n",
    " \n",
    "for key in person:\n",
    "    print(key, person[key])\n",
    " \n",
    "persons = [\n",
    "    {'name':'egoing', 'address':'Seoul', 'interest':'Web'},\n",
    "    {'name':'basta', 'address':'Seoul', 'interest':'IOT'},\n",
    "    {'name':'blackdew', 'address':'Tongyeong', 'interest':'ML'}\n",
    "]\n",
    " \n",
    "print('==== persons ====')\n",
    "for person in persons:\n",
    "    for key in person:\n",
    "        print(key, ':', person[key])\n",
    "    print('-----------------')"
   ]
  }
 ],
 "metadata": {
  "interpreter": {
   "hash": "57728f4bfd9bc978c25d5c9cdcf277be28bad00a01dc89349b2fca774db23ac6"
  },
  "kernelspec": {
   "display_name": "Python 3.8.8 64-bit ('base': conda)",
   "language": "python",
   "name": "python3"
  },
  "language_info": {
   "codemirror_mode": {
    "name": "ipython",
    "version": 3
   },
   "file_extension": ".py",
   "mimetype": "text/x-python",
   "name": "python",
   "nbconvert_exporter": "python",
   "pygments_lexer": "ipython3",
   "version": "3.8.8"
  },
  "orig_nbformat": 4
 },
 "nbformat": 4,
 "nbformat_minor": 2
}
