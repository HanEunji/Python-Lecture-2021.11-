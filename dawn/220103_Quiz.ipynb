{
 "cells": [
  {
   "cell_type": "markdown",
   "metadata": {},
   "source": [
    "https://www.youtube.com/watch?v=QEYIVLyGIRI&list=PLMsa_0kAjjrftcNd6xLyY7KUyoc2FBqTP&index=3"
   ]
  },
  {
   "cell_type": "code",
   "execution_count": 18,
   "metadata": {},
   "outputs": [
    {
     "data": {
      "text/plain": [
       "['A1', 'A3', 'A5', 'A7', 'A9', 'A11', 'A13', 'A15', 'A17', 'A19']"
      ]
     },
     "execution_count": 18,
     "metadata": {},
     "output_type": "execute_result"
    }
   ],
   "source": [
    "seats = [f'A{i}' for i in range(1,21)]\n",
    "answer = seats[::2]\n",
    "answer"
   ]
  },
  {
   "cell_type": "code",
   "execution_count": 19,
   "metadata": {},
   "outputs": [
    {
     "name": "stdout",
     "output_type": "stream",
     "text": [
      "A1 A3 A5 A7 A9 A11 A13 A15 A17 A19 "
     ]
    }
   ],
   "source": [
    "for ans in answer:\n",
    "    print(ans, end=' ')"
   ]
  },
  {
   "cell_type": "markdown",
   "metadata": {},
   "source": [
    "풀이"
   ]
  },
  {
   "cell_type": "code",
   "execution_count": 20,
   "metadata": {},
   "outputs": [
    {
     "name": "stdout",
     "output_type": "stream",
     "text": [
      "A1 A2 A3 A4 A5 A6 A7 A8 A9 A10 A11 A12 A13 A14 A15 A16 A17 A18 A19 A20 "
     ]
    }
   ],
   "source": [
    "for i in range(1, 21):\n",
    "    print(\"A\"+str(i), end=' ')"
   ]
  },
  {
   "cell_type": "code",
   "execution_count": 21,
   "metadata": {},
   "outputs": [
    {
     "name": "stdout",
     "output_type": "stream",
     "text": [
      "A1 A3 A5 A7 A9 A11 A13 A15 A17 A19 "
     ]
    }
   ],
   "source": [
    "for i in range(1, 21):\n",
    "    if i % 2 == 1:  # 홀수인 좌석만 찾기\n",
    "        print(\"A\"+str(i), end=' ')"
   ]
  },
  {
   "cell_type": "markdown",
   "metadata": {},
   "source": [
    "나는 A1~A20까지 리스트를 만들어서 리스트에서 뽑았는데 아예 간단하게 출력만 하셨네"
   ]
  },
  {
   "cell_type": "code",
   "execution_count": 22,
   "metadata": {},
   "outputs": [
    {
     "name": "stdout",
     "output_type": "stream",
     "text": [
      "A1 A3 A5 A7 A9 A11 A13 A15 A17 A19 "
     ]
    }
   ],
   "source": [
    "for i in range(1, 21)[::2]:\n",
    "    print(\"A\"+str(i), end=' ')"
   ]
  },
  {
   "cell_type": "code",
   "execution_count": 23,
   "metadata": {},
   "outputs": [
    {
     "data": {
      "text/plain": [
       "['A1', 'A3', 'A5', 'A7', 'A9', 'A11', 'A13', 'A15', 'A17', 'A19']"
      ]
     },
     "execution_count": 23,
     "metadata": {},
     "output_type": "execute_result"
    }
   ],
   "source": [
    "seats = [f'A{i}' for i in range(1,21)[::2]]\n",
    "seats       # 와...이게 되네"
   ]
  },
  {
   "cell_type": "markdown",
   "metadata": {},
   "source": [
    "> 신조어퀴즈"
   ]
  },
  {
   "cell_type": "code",
   "execution_count": 3,
   "metadata": {},
   "outputs": [
    {
     "name": "stdout",
     "output_type": "stream",
     "text": [
      "'얼죽아'의 뜻은?\n",
      "1.얼어 죽어도 아메리카노\n",
      "2.얼굴만은 죽어도 아기피부\n",
      "정답입니다.\n"
     ]
    }
   ],
   "source": [
    "class Word:\n",
    "    def __init__(self, word, ex1, ex2, answer):\n",
    "        self.word = word\n",
    "        self.ex1 = ex1\n",
    "        self.ex2 = ex2\n",
    "        self.answer = answer\n",
    "\n",
    "    def show_question(self):\n",
    "        print(f'\\'{self.word}\\'의 뜻은?')\n",
    "        print('1.'+self.ex1)\n",
    "        print('2.'+self.ex2)\n",
    "\n",
    "\n",
    "    def check_answer(self, user_input):\n",
    "        if user_input == self.answer:\n",
    "            print(\"정답입니다.\")\n",
    "        else:\n",
    "            print(\"틀렸습니다.\")\n",
    "\n",
    "word = Word(\"얼죽아\", \"얼어 죽어도 아메리카노\", \"얼굴만은 죽어도 아기피부\", 1)\n",
    "\n",
    "word.show_question()\n",
    "word.check_answer(int(input('=>')))"
   ]
  },
  {
   "cell_type": "code",
   "execution_count": 5,
   "metadata": {},
   "outputs": [
    {
     "name": "stdout",
     "output_type": "stream",
     "text": [
      "three five "
     ]
    },
    {
     "data": {
      "text/plain": [
       "False"
      ]
     },
     "execution_count": 5,
     "metadata": {},
     "output_type": "execute_result"
    }
   ],
   "source": [
    "def three():\n",
    "    print('three', end=' ')\n",
    "    return 3\n",
    "\n",
    "def five():\n",
    "    print('five', end=' ')\n",
    "    return 5\n",
    "\n",
    "def seven():\n",
    "    print('seven', end=' ')\n",
    "    return 7\n",
    "\n",
    "three() > five() > seven()"
   ]
  },
  {
   "cell_type": "code",
   "execution_count": 6,
   "metadata": {},
   "outputs": [
    {
     "name": "stdout",
     "output_type": "stream",
     "text": [
      "1.서류심사\n"
     ]
    },
    {
     "data": {
      "text/plain": [
       "True"
      ]
     },
     "execution_count": 6,
     "metadata": {},
     "output_type": "execute_result"
    }
   ],
   "source": [
    "def 서류심사(): print('1.서류심사'); return True\n",
    "\n",
    "서류심사()"
   ]
  },
  {
   "cell_type": "code",
   "execution_count": 7,
   "metadata": {},
   "outputs": [
    {
     "name": "stdout",
     "output_type": "stream",
     "text": [
      "1.서류심사\n",
      "2.인적성검사\n",
      "3.코딩테스트\n",
      "최종 합격입니다.\n"
     ]
    }
   ],
   "source": [
    "def 서류심사(): print('1.서류심사'); return True\n",
    "def 인적성검사(): print('2.인적성검사'); return True\n",
    "def 코딩테스트(): print('3.코딩테스트'); return True\n",
    "\n",
    "if 서류심사() and 인적성검사() and 코딩테스트():\n",
    "    print('최종 합격입니다.')\n",
    "else:\n",
    "    print('아쉽게도 탈락입니다.')"
   ]
  },
  {
   "cell_type": "code",
   "execution_count": null,
   "metadata": {},
   "outputs": [],
   "source": []
  }
 ],
 "metadata": {
  "interpreter": {
   "hash": "57728f4bfd9bc978c25d5c9cdcf277be28bad00a01dc89349b2fca774db23ac6"
  },
  "kernelspec": {
   "display_name": "Python 3.8.8 64-bit ('base': conda)",
   "language": "python",
   "name": "python3"
  },
  "language_info": {
   "codemirror_mode": {
    "name": "ipython",
    "version": 3
   },
   "file_extension": ".py",
   "mimetype": "text/x-python",
   "name": "python",
   "nbconvert_exporter": "python",
   "pygments_lexer": "ipython3",
   "version": "3.8.8"
  },
  "orig_nbformat": 4
 },
 "nbformat": 4,
 "nbformat_minor": 2
}
