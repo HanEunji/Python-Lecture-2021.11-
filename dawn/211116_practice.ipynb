{
 "cells": [
  {
   "cell_type": "markdown",
   "metadata": {},
   "source": [
    "# 2021/11/16 복습\n",
    "\n",
    "### 1. 연산자, 내장함수 써 보기\n",
    "- 연산자 : +, -, *, /, //, %, **\n",
    "- 비교연산자 : <, >, ==, !=, >=, <=\n",
    "\n",
    "- 내장함수 : print, abs, dir, divmod, input, int, map, range, str, tuple, type\n",
    "\n",
    "### 2. 자료형 다시\n",
    "- 자료형 : 숫자형, 문자열, 불, 변수, 리스트, 튜플, 딕셔너리, 집합\n"
   ]
  },
  {
   "cell_type": "code",
   "execution_count": null,
   "metadata": {},
   "outputs": [],
   "source": [
    "# 연산자 및 비교연산자\n",
    "# +, -, *, /, <, >, >=, <=는 OK\n",
    "# //는 몫만 반환(소수점 아래 버림)\n",
    "# %는 나머지만 반환\n",
    "# **는 제곱\n",
    "# ==는 좌우값이 같다.\n",
    "# !=는 좌우값이 같지 않다."
   ]
  },
  {
   "cell_type": "code",
   "execution_count": 17,
   "metadata": {},
   "outputs": [
    {
     "data": {
      "text/plain": [
       "(2.0, 1, 8, 1, 1, 3, 25)"
      ]
     },
     "execution_count": 17,
     "metadata": {},
     "output_type": "execute_result"
    }
   ],
   "source": [
    "# 연산자 써 보기\n",
    "float(1 + 1), 2 - 1, 2 * 4, int(8 / 5), 8 // 5, 8 % 5, 5 ** 2"
   ]
  },
  {
   "cell_type": "code",
   "execution_count": 29,
   "metadata": {},
   "outputs": [
    {
     "data": {
      "text/plain": [
       "(True, False, False, True, False, True)"
      ]
     },
     "execution_count": 29,
     "metadata": {},
     "output_type": "execute_result"
    }
   ],
   "source": [
    "# 비교연산자 써 보기\n",
    "1 < 2, 1 > 2, 1 == 2, 1 != 2, 1 >= 2, 1 <= 2"
   ]
  },
  {
   "cell_type": "code",
   "execution_count": 35,
   "metadata": {},
   "outputs": [
    {
     "data": {
      "text/plain": [
       "(True, False, True)"
      ]
     },
     "execution_count": 35,
     "metadata": {},
     "output_type": "execute_result"
    }
   ],
   "source": [
    "10 == 10 and 10 != 5, not 10 > 5, 10 > 5 or 10 < 3"
   ]
  },
  {
   "cell_type": "code",
   "execution_count": 25,
   "metadata": {},
   "outputs": [
    {
     "name": "stdout",
     "output_type": "stream",
     "text": [
      "Lifeis too short\n",
      "Life@is\n",
      "Lifeis\n",
      "tooshort\n"
     ]
    }
   ],
   "source": [
    "# print, abs, dir, divmod, input, int, map, range, str, tuple, type\n",
    "# 숫자, 문자열, 리스트 출력. \"\"로 둘러싸인 문자열은 + 연산과 동일.\n",
    "\n",
    "print(\"Life\" \"is\",\"too short\") # 변수나 값을 콤마(,)로 구분해서 넣으면 각 값 사이 공백이 생긴다.\n",
    "print(\"Life\", \"is\", sep='@') # 구분자(separator) 공백 외의 문자로 구분하고 싶다면 sep= 사용.\n",
    "print(\"Life\", \"is\", \"\\ntoo\", \"short\", sep='') # 콤마로 구분하더라도 sep을 비워두면 공백 없음. 줄바꿈문자(\\n. 문자열 안에 사용)도 사용 가능."
   ]
  },
  {
   "cell_type": "code",
   "execution_count": 30,
   "metadata": {},
   "outputs": [
    {
     "name": "stdout",
     "output_type": "stream",
     "text": [
      "12\n",
      "['__abs__', '__add__', '__and__', '__bool__', '__ceil__', '__class__', '__delattr__', '__dir__', '__divmod__', '__doc__', '__eq__', '__float__', '__floor__', '__floordiv__', '__format__', '__ge__', '__getattribute__', '__getnewargs__', '__gt__', '__hash__', '__index__', '__init__', '__init_subclass__', '__int__', '__invert__', '__le__', '__lshift__', '__lt__', '__mod__', '__mul__', '__ne__', '__neg__', '__new__', '__or__', '__pos__', '__pow__', '__radd__', '__rand__', '__rdivmod__', '__reduce__', '__reduce_ex__', '__repr__', '__rfloordiv__', '__rlshift__', '__rmod__', '__rmul__', '__ror__', '__round__', '__rpow__', '__rrshift__', '__rshift__', '__rsub__', '__rtruediv__', '__rxor__', '__setattr__', '__sizeof__', '__str__', '__sub__', '__subclasshook__', '__truediv__', '__trunc__', '__xor__', 'as_integer_ratio', 'bit_length', 'conjugate', 'denominator', 'from_bytes', 'imag', 'numerator', 'real', 'to_bytes']\n"
     ]
    }
   ],
   "source": [
    "a = -12\n",
    "print(abs(a)) # abs(x) : x에 숫자를 입력했을 때 그 숫자의 절댓값 반환\n",
    "print(dir(12)) # dir : 객체가 자체적으로 가지고 있는 변수, 함수 보여줌."
   ]
  },
  {
   "cell_type": "code",
   "execution_count": 33,
   "metadata": {},
   "outputs": [
    {
     "name": "stdout",
     "output_type": "stream",
     "text": [
      "(4, 2)\n"
     ]
    }
   ],
   "source": [
    "# divmod(a, b) : 2개의 숫자를 입력받아 a를 b로 나눈 몫과 나머지를 튜플 형태로 돌려줌.\n",
    "print(divmod(30, 7))"
   ]
  },
  {
   "cell_type": "code",
   "execution_count": 36,
   "metadata": {},
   "outputs": [
    {
     "name": "stdout",
     "output_type": "stream",
     "text": [
      "1\n",
      "(2, 'a', 'b')\n",
      "(1, 2, 'a', 'b', 3, 4)\n",
      "(3, 4, 3, 4, 3, 4)\n",
      "4\n"
     ]
    }
   ],
   "source": [
    "#  튜플 형태란? a = () 이렇게 생긴 거.\n",
    "#  a = (1,) # a = 1, 2, 3 # a = (1, 2, 3) # a = ('a', 'b', ('ab', 'cd'))\n",
    "#  추가로 튜플 함수. 튜플은 요소 못 지우고 변경도 안 됨. 그 외에는 리스트와 동일.\n",
    "a = (1, 2, 'a', 'b')\n",
    "print(a[0]) # 1. 인덱싱.\n",
    "print(a[1:]) # 2. 슬라이싱. 1번부터 끝까지\n",
    "b = (3, 4)\n",
    "print(a + b) # 3. 튜플 더하기\n",
    "print(b * 3) # 4. 튜플 곱하기\n",
    "print(len(a)) # 5. 튜플 길이 구하기"
   ]
  },
  {
   "cell_type": "code",
   "execution_count": 38,
   "metadata": {},
   "outputs": [
    {
     "data": {
      "text/plain": [
       "<map at 0x19d2f9b9460>"
      ]
     },
     "execution_count": 38,
     "metadata": {},
     "output_type": "execute_result"
    }
   ],
   "source": [
    "# input : 입력되는 모든 것을 문자열로 취급함. input(\"출력할 질문 내용\")\n",
    "# 변수 = input(\"생년월일을 숫자 8자리로 입력하세요. : \")\n",
    "map(int, input(\"올해 나이를 숫자로 입력하세요. :\").split())"
   ]
  }
 ],
 "metadata": {
  "interpreter": {
   "hash": "bb0cbac54d6cdbae60be2e6d83bf46fb7f752717ca2d60c579508701c83844df"
  },
  "kernelspec": {
   "display_name": "Python 3.10.0 64-bit",
   "language": "python",
   "name": "python3"
  },
  "language_info": {
   "codemirror_mode": {
    "name": "ipython",
    "version": 3
   },
   "file_extension": ".py",
   "mimetype": "text/x-python",
   "name": "python",
   "nbconvert_exporter": "python",
   "pygments_lexer": "ipython3",
   "version": "3.8.8"
  },
  "orig_nbformat": 4
 },
 "nbformat": 4,
 "nbformat_minor": 2
}
