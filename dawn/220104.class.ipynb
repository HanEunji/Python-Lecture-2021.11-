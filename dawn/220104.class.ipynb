{
 "cells": [
  {
   "cell_type": "code",
   "execution_count": 3,
   "metadata": {},
   "outputs": [
    {
     "name": "stdout",
     "output_type": "stream",
     "text": [
      "JSS 클래스 선언!\n"
     ]
    }
   ],
   "source": [
    "class JSS:\n",
    "    def __init__(self):\n",
    "        print('JSS 클래스 선언!')\n",
    "    def show(self):\n",
    "        print(\"show 실행!\")\n",
    "\n",
    "a = JSS()"
   ]
  },
  {
   "cell_type": "code",
   "execution_count": 4,
   "metadata": {},
   "outputs": [
    {
     "name": "stdout",
     "output_type": "stream",
     "text": [
      "show 실행!\n"
     ]
    }
   ],
   "source": [
    "a.show()"
   ]
  },
  {
   "cell_type": "code",
   "execution_count": 9,
   "metadata": {},
   "outputs": [],
   "source": [
    "class JSS:\n",
    "    def __init__(self):\n",
    "        self.name = input(\"이름 : \")\n",
    "        self.age = input('나이 : ')\n",
    "    def show(self):\n",
    "        print(f\"이름은 {self.name}, 나이는 {self.age}세입니다.\")\n",
    "\n",
    "a = JSS()"
   ]
  },
  {
   "cell_type": "code",
   "execution_count": 10,
   "metadata": {},
   "outputs": [
    {
     "data": {
      "text/plain": [
       "('가나다', '29')"
      ]
     },
     "execution_count": 10,
     "metadata": {},
     "output_type": "execute_result"
    }
   ],
   "source": [
    "a.name, a.age\n"
   ]
  },
  {
   "cell_type": "code",
   "execution_count": 11,
   "metadata": {},
   "outputs": [
    {
     "name": "stdout",
     "output_type": "stream",
     "text": [
      "이름은 가나다, 나이는 29세입니다.\n"
     ]
    }
   ],
   "source": [
    "a.show()"
   ]
  },
  {
   "cell_type": "code",
   "execution_count": 15,
   "metadata": {},
   "outputs": [],
   "source": [
    "class JSS2(JSS):\n",
    "    def __init__(self):\n",
    "        super().__init__()  # 기존 클래스에 있던 내용 그대로\n",
    "        self.gender = input('성별 : ')\n",
    "    def show(self):\n",
    "        print(f\"이름은 {self.name}, 나이는 {self.age}세, 성별은 {self.gender}입니다.\")"
   ]
  },
  {
   "cell_type": "code",
   "execution_count": 16,
   "metadata": {},
   "outputs": [],
   "source": [
    "a = JSS2()"
   ]
  },
  {
   "cell_type": "code",
   "execution_count": 17,
   "metadata": {},
   "outputs": [
    {
     "name": "stdout",
     "output_type": "stream",
     "text": [
      "이름은 먀먀먀, 나이는 392세, 성별은 외계입니다.\n"
     ]
    }
   ],
   "source": [
    "a.show()"
   ]
  },
  {
   "cell_type": "markdown",
   "metadata": {},
   "source": [
    ">클래스틑 객체를 표현하는 문법  \n",
    ">클래스로 인스턴스를 만든다  \n",
    ">인스턴스 = 객체  \n",
    ">객체만 지칭할 때는 그냥 객체(object)라고 부르지만 클래스와 연관지어 말할 때는 인스턴스(instance)라고 부름"
   ]
  },
  {
   "cell_type": "code",
   "execution_count": 18,
   "metadata": {},
   "outputs": [
    {
     "name": "stdout",
     "output_type": "stream",
     "text": [
      "hello\n"
     ]
    }
   ],
   "source": [
    "class Person:\n",
    "    def greeting(self):\n",
    "        print('hello')\n",
    "    \n",
    "    def hello(self):\n",
    "        self.greeting()     # 메서드 안에서 메서드 호출 시 self.메서드()\n",
    "\n",
    "james = Person()\n",
    "james.hello()"
   ]
  },
  {
   "cell_type": "code",
   "execution_count": 19,
   "metadata": {},
   "outputs": [
    {
     "data": {
      "text/plain": [
       "True"
      ]
     },
     "execution_count": 19,
     "metadata": {},
     "output_type": "execute_result"
    }
   ],
   "source": [
    "# 특정 클래스의 인스턴스인지 확인\n",
    "isinstance(james, Person)"
   ]
  },
  {
   "cell_type": "code",
   "execution_count": 20,
   "metadata": {},
   "outputs": [],
   "source": [
    "# isinstance는 주로 객체의 자료형 판단에 사용.\n",
    "\n",
    "def factorial(n):\n",
    "    if not isinstance(n, int) or n < 0:\n",
    "        return None\n",
    "    if n == 1:\n",
    "        return 1\n",
    "    return n * factorial(n - 1)\n"
   ]
  },
  {
   "cell_type": "code",
   "execution_count": 23,
   "metadata": {},
   "outputs": [
    {
     "data": {
      "text/plain": [
       "(40320, None)"
      ]
     },
     "execution_count": 23,
     "metadata": {},
     "output_type": "execute_result"
    }
   ],
   "source": [
    "factorial(8), factorial(-8)"
   ]
  },
  {
   "cell_type": "code",
   "execution_count": null,
   "metadata": {},
   "outputs": [],
   "source": []
  }
 ],
 "metadata": {
  "interpreter": {
   "hash": "57728f4bfd9bc978c25d5c9cdcf277be28bad00a01dc89349b2fca774db23ac6"
  },
  "kernelspec": {
   "display_name": "Python 3.8.8 64-bit ('base': conda)",
   "language": "python",
   "name": "python3"
  },
  "language_info": {
   "codemirror_mode": {
    "name": "ipython",
    "version": 3
   },
   "file_extension": ".py",
   "mimetype": "text/x-python",
   "name": "python",
   "nbconvert_exporter": "python",
   "pygments_lexer": "ipython3",
   "version": "3.8.8"
  },
  "orig_nbformat": 4
 },
 "nbformat": 4,
 "nbformat_minor": 2
}
