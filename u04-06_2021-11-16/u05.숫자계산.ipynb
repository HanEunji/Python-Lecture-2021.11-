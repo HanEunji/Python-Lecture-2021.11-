{
 "cells": [
  {
   "cell_type": "code",
   "execution_count": 21,
   "metadata": {},
   "outputs": [],
   "source": [
    "import math"
   ]
  },
  {
   "cell_type": "markdown",
   "metadata": {},
   "source": [
    "# Unit 5. 숫자 계산하기\n",
    "\n",
    "### 5-1 정수"
   ]
  },
  {
   "cell_type": "code",
   "execution_count": 11,
   "metadata": {},
   "outputs": [
    {
     "name": "stdout",
     "output_type": "stream",
     "text": [
      "2.5\n"
     ]
    }
   ],
   "source": [
    "# 부동 소수점(Floating Point)에 대해\n",
    "# 24.3754 를 0.243754 * 10^2로 바꾸어 부호/지수/가수 순서로 표기.\n",
    "print(5 / 2)"
   ]
  },
  {
   "cell_type": "code",
   "execution_count": 14,
   "metadata": {},
   "outputs": [
    {
     "name": "stdout",
     "output_type": "stream",
     "text": [
      "2 1\n",
      "[1, 2, 3, '4*', 5, 6, 7, '8*', 9, 10, 11, '12*', 13, 14, 15, '16*', '17!', 18, 19, '20*', 21, 22, 23, '24*', 25, 26, 27, '28*', 29, 30, 31, '32*', 33, '34!', 35, '36*', 37, 38, 39, '40*', 41, 42, 43, '44*', 45, 46, 47, '48*', 49, 50, '51!', '52*', 53, 54, 55, '56*', 57, 58, 59, '60*', 61, 62, 63, '64*', 65, 66, 67, '68*!', 69, 70, 71, '72*', 73, 74, 75, '76*', 77, 78, 79, '80*', 81, 82, 83, '84*', '85!', 86, 87, '88*', 89, 90, 91, '92*', 93, 94, 95, '96*', 97, 98, 99, '100*']\n"
     ]
    }
   ],
   "source": [
    "# 나눗셈. 몫과 나머지\n",
    "q = 5 // 2 # 슬래시 2개를 붙여 쓰면 나눗셈의 몫이 출력됨.\n",
    "r = 5 % 2 # %을 쓰면 나눗셈의 나머지(modulo 연산) *module 오탈자 아님.\n",
    "print(q, r)\n",
    "\n",
    "# 모듈로 연산은 배수를 구할 때...에 유용.\n",
    "# 1~100의 자연수 중 4의 배수에는 별을 붙이고 17의 배수에는 느낌표를 붙이고 둘의 공배수에는 둘 다 붙일 때,\n",
    "list = []\n",
    "for i in range(1,101):\n",
    "    if i % 4 == 0 and i % 17 == 0:\n",
    "        list.append(f'{i}*!')\n",
    "    elif i % 4 == 0:\n",
    "        list.append(f'{i}*')\n",
    "    elif i % 17 == 0:\n",
    "        list.append(f'{i}!')\n",
    "    else:\n",
    "        list.append(i)\n",
    "print(list)"
   ]
  },
  {
   "cell_type": "code",
   "execution_count": 18,
   "metadata": {},
   "outputs": [
    {
     "data": {
      "text/plain": [
       "(2, 1)"
      ]
     },
     "execution_count": 18,
     "metadata": {},
     "output_type": "execute_result"
    }
   ],
   "source": [
    "q, r = divmod(5, 2)     # divmod(a, b) a를 b로 나눈 몫과 나머지를 반환\n",
    "q, r"
   ]
  },
  {
   "cell_type": "code",
   "execution_count": 19,
   "metadata": {},
   "outputs": [
    {
     "data": {
      "text/plain": [
       "(2, 1)"
      ]
     },
     "execution_count": 19,
     "metadata": {},
     "output_type": "execute_result"
    }
   ],
   "source": [
    "q, r = 5//2, 5%2\n",
    "q, r"
   ]
  },
  {
   "cell_type": "code",
   "execution_count": 28,
   "metadata": {},
   "outputs": [
    {
     "name": "stdout",
     "output_type": "stream",
     "text": [
      "(int(5.5)와 (math.floor(5.5)의 타입은 <class 'int'> <class 'int'> 이고,  5 , 5 가 반환된다.\n",
      "(int(5.5)와 (math.floor(5.5)의 타입은 <class 'int'>, <class 'int'> 이고, 5, 5가 반환된다.\n"
     ]
    }
   ],
   "source": [
    "# 정수 변환 함수 int. int 쓰면 결과값이 정수가 됨~\n",
    "print('(int(5.5)와 (math.floor(5.5)의 타입은', type(int(5.5)), type(math.floor(5.5)), '이고, ', int(5.5), ',', math.floor(5.5), '가 반환된다.' )\n",
    "print(f'(int(5.5)와 (math.floor(5.5)의 타입은 {type(int(5.5))}, {type(math.floor(5.5))} 이고, {int(5.5)}, {math.floor(5.5)}가 반환된다.' )"
   ]
  },
  {
   "cell_type": "code",
   "execution_count": 21,
   "metadata": {},
   "outputs": [],
   "source": [
    "# 2, 8, 16진수 표기\n",
    "# 0100 0001       10진수  65\n",
    "#                 2진수   0b01000001\n",
    "#                 8진수   0o101\n",
    "#                 16진수  0x41\n",
    "# 1100 1110       16진수  0xce (알파벳 e는 에코라고 읽음)"
   ]
  },
  {
   "cell_type": "code",
   "execution_count": 22,
   "metadata": {},
   "outputs": [
    {
     "data": {
      "text/plain": [
       "(206, 206, 206)"
      ]
     },
     "execution_count": 22,
     "metadata": {},
     "output_type": "execute_result"
    }
   ],
   "source": [
    "0b11001110, 0o316, 0xce\n",
    "\n",
    "# 2진수를 8진수, 16진수로 바꾸기.\n",
    "# [8진수]\n",
    "# 1. 8진수는 2의 3승이므로 소수점을 기준으로 숫자를 세자리씩 묶는다.\n",
    "# 2. 세자리로 묶은 숫자에 2진수의 자리값을 곱한다. (숫자가 없는 자리는 0으로 채워서 계산))\n",
    "# 3. 곱한 값을 더하면 8진수가 된다.\n",
    "# [16진수]\n",
    "# 1. 2진수의 숫자를 네자리씩 묶는다.\n",
    "# 2. 네자리로 묶은 숫자에 2진수의 자리값을 곱한다.\n",
    "# 곱한 값을 더하면 16진수가 된다.\n"
   ]
  },
  {
   "cell_type": "markdown",
   "metadata": {},
   "source": [
    "### 5-2. 실수(Floating Point)"
   ]
  },
  {
   "cell_type": "code",
   "execution_count": 23,
   "metadata": {},
   "outputs": [
    {
     "data": {
      "text/plain": [
       "(5.6, 1.5999999999999996, 1.7741935483870968)"
      ]
     },
     "execution_count": 23,
     "metadata": {},
     "output_type": "execute_result"
    }
   ],
   "source": [
    "3.5 + 2.1, 4.3 - 2.7, 5.5 / 3.1"
   ]
  },
  {
   "cell_type": "code",
   "execution_count": 30,
   "metadata": {},
   "outputs": [
    {
     "name": "stdout",
     "output_type": "stream",
     "text": [
      "not 1.6\n"
     ]
    }
   ],
   "source": [
    "if (4.3 - 2.7 ) == 1.6:\n",
    "    print('1.6')\n",
    "else:\n",
    "    print('not 1.6')"
   ]
  },
  {
   "cell_type": "code",
   "execution_count": 40,
   "metadata": {},
   "outputs": [
    {
     "name": "stdout",
     "output_type": "stream",
     "text": [
      "1.6\n"
     ]
    }
   ],
   "source": [
    "# 실수 비교값 계산은 절대값으로 해야 함. 내장함수인 abs(=absolute value), 혹은 math 모듈의 fabs 함수 사용.\n",
    "if abs(4.3 - 2.7 - 1.6) < 1e-10: # 1e-10은 1*10^-10\n",
    "    print(1.6)\n",
    "else:\n",
    "    print('not 1.6')"
   ]
  },
  {
   "cell_type": "code",
   "execution_count": 41,
   "metadata": {},
   "outputs": [
    {
     "data": {
      "text/plain": [
       "(5.0, 5.0)"
      ]
     },
     "execution_count": 41,
     "metadata": {},
     "output_type": "execute_result"
    }
   ],
   "source": [
    "# 실수 변환 함수\n",
    "float(5), float('5')"
   ]
  },
  {
   "cell_type": "code",
   "execution_count": 42,
   "metadata": {},
   "outputs": [
    {
     "data": {
      "text/plain": [
       "float"
      ]
     },
     "execution_count": 42,
     "metadata": {},
     "output_type": "execute_result"
    }
   ],
   "source": [
    "type(3.4) # type은 현재 자료형을 알려주는 함수.\n",
    "\n",
    "# 실생활에서는 1과 1.0을 구분하지 않지만 컴퓨터는 1은 정수, 1.0은 실수로 구분함. 별 다섯 개."
   ]
  }
 ],
 "metadata": {
  "interpreter": {
   "hash": "57728f4bfd9bc978c25d5c9cdcf277be28bad00a01dc89349b2fca774db23ac6"
  },
  "kernelspec": {
   "display_name": "Python 3.8.8 64-bit ('base': conda)",
   "language": "python",
   "name": "python3"
  },
  "language_info": {
   "codemirror_mode": {
    "name": "ipython",
    "version": 3
   },
   "file_extension": ".py",
   "mimetype": "text/x-python",
   "name": "python",
   "nbconvert_exporter": "python",
   "pygments_lexer": "ipython3",
   "version": "3.8.8"
  },
  "orig_nbformat": 4
 },
 "nbformat": 4,
 "nbformat_minor": 2
}
