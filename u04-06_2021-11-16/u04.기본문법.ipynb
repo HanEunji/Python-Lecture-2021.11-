{
 "cells": [
  {
   "cell_type": "markdown",
   "metadata": {},
   "source": [
    "# Unit 4. 기본 문법"
   ]
  },
  {
   "cell_type": "code",
   "execution_count": 9,
   "metadata": {},
   "outputs": [
    {
     "name": "stdout",
     "output_type": "stream",
     "text": [
      "Hello, world\n",
      "안녕하세요\n"
     ]
    }
   ],
   "source": [
    "print('Hello, world'); print('안녕하세요') # 파이썬에서는 문장 끝에 세미콜론을 붙이지 않지만, 한 줄에 여러 문장을 사용하고 싶을 때 세미콜론을 활용할 수 있다."
   ]
  },
  {
   "cell_type": "code",
   "execution_count": 10,
   "metadata": {},
   "outputs": [
    {
     "name": "stdout",
     "output_type": "stream",
     "text": [
      "This is comment.\n"
     ]
    }
   ],
   "source": [
    "# 한 줄 주석(comment). 주석을 쓰고 싶을 때는 주석 처리하고 싶은 부분 앞에 # 을 붙이면 해당 문장이 주석처리 됨.\n",
    "\n",
    "print('This is comment.')"
   ]
  },
  {
   "cell_type": "code",
   "execution_count": 13,
   "metadata": {},
   "outputs": [
    {
     "data": {
      "text/plain": [
       "\" print('Hello, world')\\nprint('안녕하세요?') \""
      ]
     },
     "execution_count": 13,
     "metadata": {},
     "output_type": "execute_result"
    }
   ],
   "source": [
    "# 블록 주석. 은 주석처리 하고 싶은 부분을 작은따옴표 혹은 큰따옴표 3개로 감싸준다.\n",
    "\n",
    "''' print('Hello, world')\n",
    "print('안녕하세요?') '''"
   ]
  },
  {
   "cell_type": "code",
   "execution_count": 14,
   "metadata": {},
   "outputs": [],
   "source": [
    "a = '''안녕!\n",
    "영희야''' # 이 경우 ''' '''은 여러줄의 문자열 데이터를 가리킴"
   ]
  },
  {
   "cell_type": "code",
   "execution_count": 15,
   "metadata": {},
   "outputs": [
    {
     "name": "stdout",
     "output_type": "stream",
     "text": [
      "a는 10이 아닙니다.\n"
     ]
    }
   ],
   "source": [
    "# 들여쓰기(Indentation) : tap 혹은 공백 4칸\n",
    "\n",
    "if a == 10:\n",
    "    print('a는 10입니다.')\n",
    "else:\n",
    "    print('a는 10이 아닙니다.')"
   ]
  },
  {
   "cell_type": "code",
   "execution_count": 16,
   "metadata": {},
   "outputs": [
    {
     "name": "stdout",
     "output_type": "stream",
     "text": [
      "a는 10입니다.\n"
     ]
    }
   ],
   "source": [
    "# 들여쓰기 테스트 이어서.\n",
    "\n",
    "a = 10\n",
    "if a == 10:\n",
    "    print('a는 10입니다.')\n",
    "else:\n",
    "    print('a는 10이 아닙니다.')\n",
    "    print('indentation에 따라 출력되기도 합니다.') # 마지막줄 들여쓰기에 따라 출력이 되기도, 안 되기도 함. 들여쓰기의 중요성 확인.\n",
    "\n",
    "# 파이썬 외의 다른 프로그래밍 언어에서는 들여쓰기가 아니라 중괄호 등을 활용하여 블록을 나누는 경우가 많다.\n",
    "# 파이썬에서 줄을 맞추지 않고 한 칸만 틀려도 에러 발생. (IndentationError: unexpected indent)"
   ]
  },
  {
   "cell_type": "code",
   "execution_count": null,
   "metadata": {},
   "outputs": [],
   "source": [
    "# 복습"
   ]
  }
 ],
 "metadata": {
  "interpreter": {
   "hash": "57728f4bfd9bc978c25d5c9cdcf277be28bad00a01dc89349b2fca774db23ac6"
  },
  "kernelspec": {
   "display_name": "Python 3.8.8 64-bit ('base': conda)",
   "language": "python",
   "name": "python3"
  },
  "language_info": {
   "codemirror_mode": {
    "name": "ipython",
    "version": 3
   },
   "file_extension": ".py",
   "mimetype": "text/x-python",
   "name": "python",
   "nbconvert_exporter": "python",
   "pygments_lexer": "ipython3",
   "version": "3.8.8"
  },
  "orig_nbformat": 4
 },
 "nbformat": 4,
 "nbformat_minor": 2
}
