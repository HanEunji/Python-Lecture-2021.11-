{
 "cells": [
  {
   "cell_type": "markdown",
   "metadata": {},
   "source": [
    "# Unit 18. break, continue로 반복문 제어\n",
    "- break : 제어흐름 중단\n",
    "- continue : 제어흐름 유지, 코드 실행만 건너뜀"
   ]
  },
  {
   "cell_type": "code",
   "execution_count": 2,
   "metadata": {},
   "outputs": [
    {
     "name": "stdout",
     "output_type": "stream",
     "text": [
      "4 6 5 3 "
     ]
    }
   ],
   "source": [
    "import random\n",
    "random.seed(2021) # 수업을 듣는 모두 같은 수가 나오도록 넣어줌.\n",
    "while True:\n",
    "    dice = random.randint(1,6)\n",
    "    print(dice, end=' ')\n",
    "    if dice == 3:\n",
    "        break"
   ]
  },
  {
   "cell_type": "code",
   "execution_count": 5,
   "metadata": {},
   "outputs": [
    {
     "name": "stdout",
     "output_type": "stream",
     "text": [
      "(3, 1) (5, 6) "
     ]
    }
   ],
   "source": [
    "# 주사위를 두 번 던져서 합이 10 이상이면 반복문 종료.\n",
    "while 1:\n",
    "    d1 = random.randint(1,6)\n",
    "    d2 = random.randint(1,6)\n",
    "    print(f'({d1}, {d2})', end=' ')\n",
    "    if d1 + d2 >= 10:\n",
    "        break"
   ]
  },
  {
   "cell_type": "code",
   "execution_count": 6,
   "metadata": {},
   "outputs": [
    {
     "name": "stdout",
     "output_type": "stream",
     "text": [
      "25 325\n"
     ]
    }
   ],
   "source": [
    "# for-loop, 1에서 얼마까지 더하면 누적합이 300을 초과하는지\n",
    "sum = 0\n",
    "for i in range(300):\n",
    "    sum += i\n",
    "    if sum > 300:\n",
    "        break\n",
    "print(i, sum)"
   ]
  },
  {
   "cell_type": "code",
   "execution_count": null,
   "metadata": {},
   "outputs": [],
   "source": []
  }
 ],
 "metadata": {
  "interpreter": {
   "hash": "57728f4bfd9bc978c25d5c9cdcf277be28bad00a01dc89349b2fca774db23ac6"
  },
  "kernelspec": {
   "display_name": "Python 3.8.8 64-bit ('base': conda)",
   "language": "python",
   "name": "python3"
  },
  "language_info": {
   "codemirror_mode": {
    "name": "ipython",
    "version": 3
   },
   "file_extension": ".py",
   "mimetype": "text/x-python",
   "name": "python",
   "nbconvert_exporter": "python",
   "pygments_lexer": "ipython3",
   "version": "3.8.8"
  },
  "orig_nbformat": 4
 },
 "nbformat": 4,
 "nbformat_minor": 2
}
