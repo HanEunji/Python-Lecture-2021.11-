{
 "cells": [
  {
   "cell_type": "code",
   "execution_count": null,
   "metadata": {},
   "outputs": [],
   "source": [
    "a = input()\n",
    "b = input()\n",
    "c = b[4:]\n",
    "a = int(a)\n",
    "c = int(c)\n",
    "print(a-c)"
   ]
  },
  {
   "cell_type": "code",
   "execution_count": null,
   "metadata": {},
   "outputs": [],
   "source": [
    "a = input()\n",
    "b = input()\n",
    "if b == 'Cash3000':\n",
    "    print(int(a)-3000)\n",
    "elif b == 'Cash5000':\n",
    "    print(int(a)-5000)"
   ]
  },
  {
   "cell_type": "code",
   "execution_count": null,
   "metadata": {},
   "outputs": [],
   "source": [
    "a, b, c, d = map(int,input().split())\n",
    "if 0 <= a <= 100 and 0 <= b <= 100 and 0 <= c <= 100 and 0 <= d <= 100:\n",
    "    if (a + b + c + d) // 4 >= 80:\n",
    "        print('합격')\n",
    "    else:\n",
    "        print('불합격')\n",
    "else:\n",
    "    print('잘못된 점수')"
   ]
  },
  {
   "cell_type": "code",
   "execution_count": null,
   "metadata": {},
   "outputs": [],
   "source": [
    "age = int(input())\n",
    "balance = 9000    # 교통카드 잔액\n",
    "if 7 <= age <= 12:\n",
    "    balance = balance - 650\n",
    "elif 13 <= age <= 18:\n",
    "    balance = balance - 1050\n",
    "elif 19 <= age:\n",
    "    balance = balance - 1250\n",
    "print(balance)"
   ]
  },
  {
   "cell_type": "code",
   "execution_count": null,
   "metadata": {},
   "outputs": [],
   "source": [
    "age = int(input())\n",
    "balance = 9000    # 교통카드 잔액\n",
    "if 7 <= age <= 12:\n",
    "    fare = 650\n",
    "elif 13 <= age <= 18:\n",
    "    fare = 1050\n",
    "elif 19 <= age:\n",
    "    fare = 1250\n",
    "else:\n",
    "    fare = 0\n",
    "print(f'{age}살의 요금은 {fare:,d}원이고, 잔액은 {balance-fare:,d}원입니다.') # :,d "
   ]
  },
  {
   "cell_type": "code",
   "execution_count": null,
   "metadata": {},
   "outputs": [],
   "source": [
    "a = int(input())\n",
    "for i in range(9):\n",
    "    print(a, '*', i+1, '=',a * (i+1))"
   ]
  },
  {
   "cell_type": "code",
   "execution_count": 1,
   "metadata": {},
   "outputs": [
    {
     "name": "stdout",
     "output_type": "stream",
     "text": [
      "2 * 1 = 2\n",
      "2 * 2 = 4\n",
      "2 * 3 = 6\n",
      "2 * 4 = 8\n",
      "2 * 5 = 10\n",
      "2 * 6 = 12\n",
      "2 * 7 = 14\n",
      "2 * 8 = 16\n",
      "2 * 9 = 18\n"
     ]
    }
   ],
   "source": [
    "n = int(input())\n",
    "for i in range(1, 10):\n",
    "    print(f'{n} * {i} = {n * i}')"
   ]
  },
  {
   "cell_type": "markdown",
   "metadata": {},
   "source": [
    "### 17"
   ]
  },
  {
   "cell_type": "code",
   "execution_count": null,
   "metadata": {},
   "outputs": [],
   "source": [
    "a = int(input())\n",
    "while a >= 1350:\n",
    "    a -= 1350\n",
    "    print(a)"
   ]
  },
  {
   "cell_type": "code",
   "execution_count": null,
   "metadata": {},
   "outputs": [],
   "source": [
    "balance = int(input())\n",
    "fare = 1350\n",
    "\n",
    "while balance - fare >= 0:\n",
    "    balance -= fare\n",
    "    print(balance)"
   ]
  },
  {
   "cell_type": "code",
   "execution_count": null,
   "metadata": {},
   "outputs": [],
   "source": [
    "balance = int(input())\n",
    "fare = 1350\n",
    "\n",
    "while balance >= fare:\n",
    "    balance -= fare\n",
    "    print(balance)"
   ]
  },
  {
   "cell_type": "markdown",
   "metadata": {},
   "source": [
    "### 18"
   ]
  },
  {
   "cell_type": "code",
   "execution_count": null,
   "metadata": {},
   "outputs": [],
   "source": [
    "# start, stop = map(int, input().split())\n",
    " \n",
    "# i = start\n",
    " \n",
    "# while True:\n",
    "#     if i in stop:\n",
    "#         if i % 3 == 0:\n",
    "#             break\n",
    "#     print(i, end=' ')\n",
    "#     i += 1"
   ]
  },
  {
   "cell_type": "code",
   "execution_count": null,
   "metadata": {},
   "outputs": [],
   "source": [
    "start, stop = map(int, input().split())\n",
    "while True:\n",
    "    if i > stop:\n",
    "        break\n",
    "    if i % 10 == 3:\n",
    "        i += 1\n",
    "        continue\n",
    "    print(i, end=' ')\n",
    "    i += 1"
   ]
  },
  {
   "cell_type": "markdown",
   "metadata": {},
   "source": [
    "### 19"
   ]
  },
  {
   "cell_type": "code",
   "execution_count": 4,
   "metadata": {},
   "outputs": [
    {
     "name": "stdout",
     "output_type": "stream",
     "text": [
      "    *\n",
      "   ***\n",
      "  *****\n",
      " *******\n",
      "*********\n"
     ]
    }
   ],
   "source": [
    "a = int(input())\n",
    "for i in range(a):\n",
    "    for k in range(a-i-1):\n",
    "        print(' ', end='')\n",
    "    for k in range(2*i+1):\n",
    "        print('*', end='')\n",
    "    print()"
   ]
  },
  {
   "cell_type": "code",
   "execution_count": 12,
   "metadata": {},
   "outputs": [
    {
     "name": "stdout",
     "output_type": "stream",
     "text": [
      "    *\n",
      "   ***\n",
      "  *****\n",
      " *******\n",
      "*********\n"
     ]
    }
   ],
   "source": [
    "a = int(input())\n",
    "for i in range(a):\n",
    "    print(' '*(a-i-1) + '*' * (2 * i + 1))"
   ]
  },
  {
   "cell_type": "markdown",
   "metadata": {},
   "source": [
    "### 20\n",
    "- 표준 입력으로 정수 두 개가 입력됩니다(첫 번째 입력 값의 범위는 1~1000, 두 번째 입력 값의 범위는 10~1000이며 첫 번째 입력 값은 두 번째 입력 값보다 항상 작습니다). 첫 번째 정수부터 두 번째 정수까지 숫자를 출력하면서 5의 배수일 때는 'Fizz', 7의 배수일 때는 'Buzz', 5와 7의 공배수일 때는 'FizzBuzz'를 출력하는 프로그램을 만드세요(input에서 안내 문자열은 출력하지 않아야 합니다)."
   ]
  },
  {
   "cell_type": "code",
   "execution_count": 14,
   "metadata": {},
   "outputs": [
    {
     "name": "stdout",
     "output_type": "stream",
     "text": [
      "FizzBuzz\n",
      "36\n",
      "37\n",
      "38\n",
      "39\n",
      "Fizz\n"
     ]
    }
   ],
   "source": [
    "a, b = map(int, input().split())\n",
    "for i in range(a, b+1):\n",
    "    if i % 35 == 0:\n",
    "        print('FizzBuzz')\n",
    "    elif i % 5 == 0:\n",
    "        print('Fizz')\n",
    "    elif i % 7 == 0:\n",
    "        print('Buzz')\n",
    "    else:\n",
    "        print(i)"
   ]
  },
  {
   "cell_type": "code",
   "execution_count": 19,
   "metadata": {},
   "outputs": [
    {
     "name": "stdout",
     "output_type": "stream",
     "text": [
      "1\n",
      "2\n",
      "3\n",
      "4\n",
      "1\n",
      "2\n",
      "3\n",
      "4\n",
      "1\n",
      "2\n",
      "3\n",
      "4\n"
     ]
    }
   ],
   "source": [
    "a = [1, 2, 3, 4]\n",
    "for i in range(len(a)):\n",
    "    print(a[i])\n",
    "\n",
    "i = 0\n",
    "while i < len(a):\n",
    "    print(a[i])\n",
    "    i += 1\n",
    "\n",
    "for i in a:\n",
    "    print(i)\n",
    "\n",
    "# pop : 마지막 요소 또는 특정 인덱스의 요소를 삭제함."
   ]
  },
  {
   "cell_type": "markdown",
   "metadata": {},
   "source": [
    "### 22"
   ]
  },
  {
   "cell_type": "code",
   "execution_count": 30,
   "metadata": {},
   "outputs": [
    {
     "name": "stdout",
     "output_type": "stream",
     "text": [
      "[1024, 4096, 8192, 16384, 32768, 65536, 131072, 262144, 1048576]\n"
     ]
    }
   ],
   "source": [
    "a, b = map(int, input().split())\n",
    "amptyList = []\n",
    "for i in range(a,b+1):\n",
    "    amptyList.append(2 ** i)\n",
    "amptyList.pop(1)\n",
    "amptyList.pop(-2)\n",
    "print(amptyList)"
   ]
  },
  {
   "cell_type": "code",
   "execution_count": 35,
   "metadata": {},
   "outputs": [
    {
     "name": "stdout",
     "output_type": "stream",
     "text": [
      "[2, 8, 16, 32, 64, 128, 256, 1024]\n"
     ]
    }
   ],
   "source": [
    "a, b = map(int, input().split())\n",
    "amptyList = []\n",
    "c = [amptyList.append(2 ** i) for i in range(a,b+1)]\n",
    "amptyList.pop(1)\n",
    "amptyList.pop(-2)\n",
    "print(amptyList)"
   ]
  },
  {
   "cell_type": "code",
   "execution_count": 85,
   "metadata": {},
   "outputs": [
    {
     "name": "stdout",
     "output_type": "stream",
     "text": [
      "[4, 32]\n"
     ]
    }
   ],
   "source": [
    "# 강사님 풀이\n",
    "a, b = map(int, input().split())\n",
    "sq_list = [2 ** i for i in range(a,b+1)]\n",
    "del sq_list[1]\n",
    "del sq_list[-2]\n",
    "print(sq_list)"
   ]
  },
  {
   "cell_type": "markdown",
   "metadata": {},
   "source": [
    "### u23\n",
    "\n",
    "- 표준 입력으로 2차원 리스트의 가로(col)와 세로(row)가 입력되고 그 다음 줄부터 리스트의 요소로 들어갈 문자가 입력됩니다. 이때 2차원 리스트 안에서 *는 지뢰이고 .은 지뢰가 아닙니다. 지뢰가 아닌 요소에는 인접한 지뢰의 개수를 출력하는 프로그램을 만드세요(input에서 안내 문자열은 출력하지 않아야 합니다)."
   ]
  },
  {
   "cell_type": "code",
   "execution_count": 80,
   "metadata": {},
   "outputs": [
    {
     "name": "stdout",
     "output_type": "stream",
     "text": [
      "[['.', '*', '.'], ['.', '.', '*'], ['.', '.', '*']]\n"
     ]
    }
   ],
   "source": [
    "# col, row = map(int, input().split())\n",
    "# matrix = []\n",
    "# for i in range(row):\n",
    "#     matrix.append(list(input())) # 리스트 landMine에 입력 값을 저장함.\n",
    "# print(matrix)\n",
    "\n",
    "# 지뢰가 아닌 곳을 찾기. 그 인덱스 값의 주변 요소 중 지뢰인 요소의 수를 세서 처음 인덱스 값으로....?\n"
   ]
  },
  {
   "cell_type": "code",
   "execution_count": 83,
   "metadata": {},
   "outputs": [
    {
     "name": "stdout",
     "output_type": "stream",
     "text": [
      "0 ['.', '*', '.']\n",
      "1 ['.', '.', '*']\n",
      "2 ['.', '.', '*']\n"
     ]
    }
   ],
   "source": [
    "# for i in range(row):\n",
    "#     for j in range(col):\n",
    "#         cnt = 0\n",
    "#         if matrix[i][j] == '.':\n",
    "#             if i != 0 and j != 0:\n",
    "#                 if matrix[i-1][j-1] == '*': cnt += 1\n",
    "#             if i != row-1 and j != col-1:\n",
    "#                 if matrix[i+1][j+1]"
   ]
  },
  {
   "cell_type": "code",
   "execution_count": 86,
   "metadata": {},
   "outputs": [
    {
     "name": "stdout",
     "output_type": "stream",
     "text": [
      "* . . . * * * . \n",
      ". . . . * . . . \n",
      ". . . . . . . * \n",
      ". * . . . * . * \n",
      "* . * . . * * . \n",
      ". * . . * * . . \n",
      ". . . * . * * . \n",
      "* . . . . . . . \n"
     ]
    }
   ],
   "source": [
    "# 강사님 풀이\n",
    "import random\n",
    "N = 8\n",
    "mines = []\n",
    "for _ in range(N): # 어떤 변수를 이용하지 않을 때 언더바로 표기\n",
    "    row = ''\n",
    "    for _ in range(N):\n",
    "        if random.random() > 0.7: # random.random()은 0~1까지를 리턴해줌\n",
    "            row += '*'\n",
    "        else:\n",
    "            row += '.'\n",
    "    mines.append(row)\n",
    "\n",
    "for row in mines:\n",
    "    for element in row:\n",
    "        print(element, end=' ')\n",
    "    print() # 지뢰판 만들기"
   ]
  },
  {
   "cell_type": "code",
   "execution_count": 87,
   "metadata": {},
   "outputs": [
    {
     "name": "stdout",
     "output_type": "stream",
     "text": [
      "* . . . * * * . \n",
      ". . . . * . . . \n",
      ". . . . . . . * \n",
      ". * . . . * . * \n",
      "* . * . . * * . \n",
      ". * . . * * . . \n",
      ". . . * . * * . \n",
      "* . . . . . . . \n"
     ]
    }
   ],
   "source": [
    "def print_mines(mat):\n",
    "    for row in mat:\n",
    "        for element in row:\n",
    "            print(element, end=' ')\n",
    "        print()\n",
    "\n",
    "print_mines(mines)"
   ]
  },
  {
   "cell_type": "code",
   "execution_count": 98,
   "metadata": {},
   "outputs": [
    {
     "name": "stdout",
     "output_type": "stream",
     "text": [
      "* * . \n",
      ". . * \n",
      ". * . \n"
     ]
    }
   ],
   "source": [
    "N = int(input())\n",
    "mines = [['*' if random.random() > 0.7 else '.' for _ in range(N)] for _ in range(N)]\n",
    "print_mines(mines)"
   ]
  },
  {
   "cell_type": "code",
   "execution_count": 99,
   "metadata": {},
   "outputs": [
    {
     "name": "stdout",
     "output_type": "stream",
     "text": [
      ". . . . . \n",
      ". * * . . \n",
      ". . . * . \n",
      ". . * . . \n",
      ". . . . . \n"
     ]
    }
   ],
   "source": [
    "pad_mines = []\n",
    "pad_mines.append('.' * (N+2))\n",
    "for row in mines:\n",
    "    line = '.'\n",
    "    for element in row:\n",
    "        line += element\n",
    "    line += '.'\n",
    "    pad_mines.append(line)\n",
    "pad_mines.append('.' * (N+2))\n",
    "print_mines(pad_mines)"
   ]
  },
  {
   "cell_type": "code",
   "execution_count": 100,
   "metadata": {},
   "outputs": [
    {
     "name": "stdout",
     "output_type": "stream",
     "text": [
      "* * 2 \n",
      "3 4 * \n",
      "1 * 2 \n"
     ]
    }
   ],
   "source": [
    "final_mines = []\n",
    "for i in range(1, N+1):\n",
    "    row = ''\n",
    "    for k in range(1, N+1):\n",
    "        if pad_mines[i][k] == '*':\n",
    "            row += '*'\n",
    "        else:\n",
    "            count = (pad_mines[i-1][k-1] == '*') + (pad_mines[i-1][k] == '*') + (pad_mines[i-1][k+1] == '*') + \\\n",
    "                    (pad_mines[i][k-1] == '*') +                                (pad_mines[i][k+1] == '*') + \\\n",
    "                    (pad_mines[i+1][k-1] == '*') + (pad_mines[i+1][k] == '*') + (pad_mines[i+1][k+1] == '*')\n",
    "            row += str(count)\n",
    "    final_mines.append(row)\n",
    "\n",
    "print_mines(final_mines)"
   ]
  }
 ],
 "metadata": {
  "interpreter": {
   "hash": "57728f4bfd9bc978c25d5c9cdcf277be28bad00a01dc89349b2fca774db23ac6"
  },
  "kernelspec": {
   "display_name": "Python 3.8.8 64-bit ('base': conda)",
   "language": "python",
   "name": "python3"
  },
  "language_info": {
   "codemirror_mode": {
    "name": "ipython",
    "version": 3
   },
   "file_extension": ".py",
   "mimetype": "text/x-python",
   "name": "python",
   "nbconvert_exporter": "python",
   "pygments_lexer": "ipython3",
   "version": "3.8.8"
  },
  "orig_nbformat": 4
 },
 "nbformat": 4,
 "nbformat_minor": 2
}
