{
 "cells": [
  {
   "cell_type": "markdown",
   "metadata": {},
   "source": [
    "# Unit 7. 출력 방법"
   ]
  },
  {
   "cell_type": "code",
   "execution_count": null,
   "metadata": {},
   "outputs": [],
   "source": [
    "# print(\"Life\" \"is\",\"too short\") # 변수나 값을 콤마(,)로 구분해서 넣으면 각 값 사이 공백이 생긴다.\n",
    "# print(\"Life\", \"is\", sep='@') # 구분자(separator) 공백 외의 문자로 구분하고 싶다면 sep= 사용.\n",
    "# print(\"Life\", \"is\", \"\\ntoo\", \"short\", sep='') # 콤마로 구분하더라도 sep을 비워두면 공백 없음. 줄바꿈문자(\\n. 문자열 안에 사용)도 사용 가능.\n",
    "# 자주 쓰는 이스케이프 코드 \\n, \\t, \\\\, \\', \\\""
   ]
  },
  {
   "cell_type": "markdown",
   "metadata": {},
   "source": [
    "### sep"
   ]
  },
  {
   "cell_type": "code",
   "execution_count": 10,
   "metadata": {},
   "outputs": [
    {
     "name": "stdout",
     "output_type": "stream",
     "text": [
      "123\n",
      "1 2 3\n",
      "1 2 3\n",
      "123\n",
      "1, 2, 3\n"
     ]
    }
   ],
   "source": [
    "# sep : separator\n",
    "print(123)\n",
    "print(\"1\" \"2\" \"3\")\n",
    "print(\"1 2 3\")\n",
    "print(1, 2, 3)\n",
    "print(1, 2, 3, sep=', ')"
   ]
  },
  {
   "cell_type": "code",
   "execution_count": 15,
   "metadata": {},
   "outputs": [
    {
     "name": "stdout",
     "output_type": "stream",
     "text": [
      "1\n",
      "2\n",
      "3\n",
      "1\\2\\3\n"
     ]
    }
   ],
   "source": [
    "print(1,2,3,sep='\\n') # 줄을 바꾸는 이스케이프 코드.\n",
    "print(1,2,3,sep='\\\\') # 백슬래시를 쓰고 싶을 때는 두 번 붙여쓴다."
   ]
  },
  {
   "cell_type": "code",
   "execution_count": null,
   "metadata": {},
   "outputs": [],
   "source": [
    "# 다음과 같이 파일 경로를 쓸 때 백슬래시를 쓰려면 두 번 써야 함. 슬래시는 한 번만 써도 됨. 프로그램 내에서는 주로 아래의 방법 이용.\n",
    "filename = 'c:\\\\Workspace\\\\01.Python\\\\README.md'\n",
    "filename2 = 'c:/Workspace/01.Python/README.md'"
   ]
  },
  {
   "cell_type": "markdown",
   "metadata": {},
   "source": [
    "### end"
   ]
  },
  {
   "cell_type": "code",
   "execution_count": 17,
   "metadata": {},
   "outputs": [
    {
     "name": "stdout",
     "output_type": "stream",
     "text": [
      "1\n",
      "2\n",
      "3\n",
      "1, 2, 3\n"
     ]
    }
   ],
   "source": [
    "print(1); print(2); print(3) # 이하 출력값을 보면 알 수 있듯이 자체적으로 줄을 바꿔준다.\n",
    "print(1, end=', '); print(2, end=', '); print(3) # 줄바꿈을 없애고 싶다면 end 사용할 것."
   ]
  },
  {
   "cell_type": "code",
   "execution_count": 18,
   "metadata": {},
   "outputs": [
    {
     "name": "stdout",
     "output_type": "stream",
     "text": [
      "*\n",
      "**\n",
      "***\n",
      "****\n",
      "*****\n"
     ]
    }
   ],
   "source": [
    "# 별 모양 그리기\n",
    "for i in range(5):\n",
    "    for k in range(i+1):\n",
    "        print('*', end='')\n",
    "    print()"
   ]
  }
 ],
 "metadata": {
  "interpreter": {
   "hash": "57728f4bfd9bc978c25d5c9cdcf277be28bad00a01dc89349b2fca774db23ac6"
  },
  "kernelspec": {
   "display_name": "Python 3.8.8 64-bit ('base': conda)",
   "language": "python",
   "name": "python3"
  },
  "language_info": {
   "codemirror_mode": {
    "name": "ipython",
    "version": 3
   },
   "file_extension": ".py",
   "mimetype": "text/x-python",
   "name": "python",
   "nbconvert_exporter": "python",
   "pygments_lexer": "ipython3",
   "version": "3.8.8"
  },
  "orig_nbformat": 4
 },
 "nbformat": 4,
 "nbformat_minor": 2
}
