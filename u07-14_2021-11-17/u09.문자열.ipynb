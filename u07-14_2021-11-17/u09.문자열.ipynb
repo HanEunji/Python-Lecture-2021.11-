{
 "cells": [
  {
   "cell_type": "markdown",
   "metadata": {},
   "source": [
    "# Unit 9. 문자열"
   ]
  },
  {
   "cell_type": "markdown",
   "metadata": {},
   "source": [
    "#### 문자열 사이에 큰따옴표(\"), 작은따옴표(') 쓰기."
   ]
  },
  {
   "cell_type": "code",
   "execution_count": 12,
   "metadata": {},
   "outputs": [
    {
     "name": "stdout",
     "output_type": "stream",
     "text": [
      "I'm a student.*I'm a student.*I'm a student.\n",
      "안녕하세요?\n",
      "저는 영희입니다.\n"
     ]
    }
   ],
   "source": [
    "s1 = \"I'm a student.\"\n",
    "s2 = 'I\\'m a student.' \n",
    "s3 = '''I'm a student.'''\n",
    "print(s1, s2, s3, sep=('*'))\n",
    "s4 = '''안녕하세요?\n",
    "저는 영희입니다.'''\n",
    "print(s4)"
   ]
  },
  {
   "cell_type": "markdown",
   "metadata": {},
   "source": [
    "### Python 3.6부터 f-string 사용 가능"
   ]
  },
  {
   "cell_type": "code",
   "execution_count": 13,
   "metadata": {},
   "outputs": [
    {
     "data": {
      "text/plain": [
       "'철수영희'"
      ]
     },
     "execution_count": 13,
     "metadata": {},
     "output_type": "execute_result"
    }
   ],
   "source": [
    "'철수' + '영희'"
   ]
  },
  {
   "cell_type": "code",
   "execution_count": 17,
   "metadata": {},
   "outputs": [
    {
     "name": "stdout",
     "output_type": "stream",
     "text": [
      "철수와 영희는 제주도에 삽니다.\n"
     ]
    }
   ],
   "source": [
    "name1, name2 = '철수', '영희'\n",
    "# '철수와 영희는 제주도에 삽니다.'를 출력하려고 함.\n",
    "res = name1 + '와 ' + name2 + '는 제주도에 삽니다.'\n",
    "print(res)"
   ]
  },
  {
   "cell_type": "code",
   "execution_count": 19,
   "metadata": {},
   "outputs": [
    {
     "name": "stdout",
     "output_type": "stream",
     "text": [
      "철수와 영희는 제주도에 삽니다.\n"
     ]
    }
   ],
   "source": [
    "res2 = f'{name1}와 {name2}는 제주도에 삽니다.' # 변수 = f'문자열'\n",
    "print(res2)"
   ]
  }
 ],
 "metadata": {
  "interpreter": {
   "hash": "57728f4bfd9bc978c25d5c9cdcf277be28bad00a01dc89349b2fca774db23ac6"
  },
  "kernelspec": {
   "display_name": "Python 3.8.8 64-bit ('base': conda)",
   "language": "python",
   "name": "python3"
  },
  "language_info": {
   "codemirror_mode": {
    "name": "ipython",
    "version": 3
   },
   "file_extension": ".py",
   "mimetype": "text/x-python",
   "name": "python",
   "nbconvert_exporter": "python",
   "pygments_lexer": "ipython3",
   "version": "3.8.8"
  },
  "orig_nbformat": 4
 },
 "nbformat": 4,
 "nbformat_minor": 2
}
