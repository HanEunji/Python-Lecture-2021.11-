{
 "cells": [
  {
   "cell_type": "markdown",
   "metadata": {},
   "source": [
    "# Unit 13. if 조건문\n",
    "- 참/거짓으로 결과가 나오면 OK"
   ]
  },
  {
   "cell_type": "code",
   "execution_count": 2,
   "metadata": {},
   "outputs": [
    {
     "name": "stdout",
     "output_type": "stream",
     "text": [
      "10 입니다.\n"
     ]
    }
   ],
   "source": [
    "# if 조건식:\n",
    "#     코드\n",
    "# 의 형식을 가짐.\n",
    "\n",
    "x = 10\n",
    "if x == 10:\n",
    "    print('10 입니다.') # indentation(들여쓰기) 주의"
   ]
  },
  {
   "cell_type": "code",
   "execution_count": 3,
   "metadata": {},
   "outputs": [
    {
     "name": "stdout",
     "output_type": "stream",
     "text": [
      "10 입니다.\n",
      "이곳에 쓴 문장은 조건이 참일 경우에 실행됩니다.\n",
      "이곳에 쓴 문장은 조건과 무관하게 실행됩니다.\n"
     ]
    }
   ],
   "source": [
    "if x == 10:\n",
    "    print('10 입니다.')\n",
    "    print('이곳에 쓴 문장은 조건이 참일 경우에 실행됩니다.')\n",
    "print('이곳에 쓴 문장은 조건과 무관하게 실행됩니다.')"
   ]
  },
  {
   "cell_type": "markdown",
   "metadata": {},
   "source": [
    "- 중첩(Nested) 조건문"
   ]
  },
  {
   "cell_type": "code",
   "execution_count": 4,
   "metadata": {},
   "outputs": [
    {
     "name": "stdout",
     "output_type": "stream",
     "text": [
      "10 초과\n"
     ]
    }
   ],
   "source": [
    "x = 25\n",
    "if x > 10:\n",
    "    print('10 초과')\n",
    "    if x % 3 == 0:\n",
    "        print('3의 배수')\n",
    "        if x % 5 == 0:\n",
    "            print('5의 배수')"
   ]
  },
  {
   "cell_type": "code",
   "execution_count": 5,
   "metadata": {},
   "outputs": [
    {
     "name": "stdout",
     "output_type": "stream",
     "text": [
      "10 초과\n",
      "3의 배수\n",
      "5의 배수\n"
     ]
    }
   ],
   "source": [
    "x = int(input('정수 입력'))\n",
    "if x > 10:\n",
    "    print('10 초과')\n",
    "    if x % 3 == 0:\n",
    "        print('3의 배수')\n",
    "        if x % 5 == 0:\n",
    "            print('5의 배수')"
   ]
  },
  {
   "cell_type": "code",
   "execution_count": 6,
   "metadata": {},
   "outputs": [
    {
     "name": "stdout",
     "output_type": "stream",
     "text": [
      "10 초과\n",
      "x 값은 17 입니다.\n"
     ]
    }
   ],
   "source": [
    "import random\n",
    "random.seed(2021)\n",
    "x = random.randint(5, 20)\n",
    "if x > 10:\n",
    "    print('10 초과')\n",
    "    if x % 3 == 0:\n",
    "        print('3의 배수')\n",
    "        if x % 5 == 0:\n",
    "            print('5의 배수')\n",
    "print(f'x 값은 {x} 입니다.')"
   ]
  },
  {
   "cell_type": "code",
   "execution_count": 7,
   "metadata": {},
   "outputs": [],
   "source": [
    "if x > 15:\n",
    "    pass # 코드를 바로 쓰지 않고 넘어갈 때 pass 사용."
   ]
  }
 ],
 "metadata": {
  "interpreter": {
   "hash": "57728f4bfd9bc978c25d5c9cdcf277be28bad00a01dc89349b2fca774db23ac6"
  },
  "kernelspec": {
   "display_name": "Python 3.8.8 64-bit ('base': conda)",
   "language": "python",
   "name": "python3"
  },
  "language_info": {
   "codemirror_mode": {
    "name": "ipython",
    "version": 3
   },
   "file_extension": ".py",
   "mimetype": "text/x-python",
   "name": "python",
   "nbconvert_exporter": "python",
   "pygments_lexer": "ipython3",
   "version": "3.8.8"
  },
  "orig_nbformat": 4
 },
 "nbformat": 4,
 "nbformat_minor": 2
}
