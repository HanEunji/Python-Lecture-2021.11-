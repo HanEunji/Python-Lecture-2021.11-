{
 "cells": [
  {
   "cell_type": "markdown",
   "metadata": {},
   "source": [
    "### CRUD 기본적인 데이터 처리 기능.\n",
    "- Create (생성)\n",
    "- Read, Retrieve (읽기, 인출)\n",
    "- Update (갱신)\n",
    "- Delete, Destroy (삭제, 파괴)"
   ]
  },
  {
   "cell_type": "markdown",
   "metadata": {},
   "source": [
    "#### 데이터 프레임 만들기"
   ]
  },
  {
   "cell_type": "markdown",
   "metadata": {},
   "source": [
    "### 참고하기 좋은 사이트\n",
    "- stack overflow\n",
    "- acmicpc.net/workbook/view/459"
   ]
  },
  {
   "cell_type": "code",
   "execution_count": null,
   "metadata": {},
   "outputs": [],
   "source": []
  },
  {
   "cell_type": "markdown",
   "metadata": {},
   "source": []
  }
 ],
 "metadata": {
  "language_info": {
   "name": "python"
  },
  "orig_nbformat": 4
 },
 "nbformat": 4,
 "nbformat_minor": 2
}
