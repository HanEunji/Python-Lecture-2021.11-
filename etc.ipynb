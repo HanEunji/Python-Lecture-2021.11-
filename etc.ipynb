{
 "cells": [
  {
   "cell_type": "markdown",
   "metadata": {},
   "source": [
    "### CRUD 기본적인 데이터 처리 기능.\n",
    "- Create (생성)\n",
    "- Read, Retrieve (읽기, 인출)\n",
    "- Update (갱신)\n",
    "- Delete, Destroy (삭제, 파괴)"
   ]
  },
  {
   "cell_type": "markdown",
   "metadata": {},
   "source": [
    "#### 데이터 프레임 만들기"
   ]
  },
  {
   "cell_type": "markdown",
   "metadata": {},
   "source": [
    "### 참고하기 좋은 사이트\n",
    "- stack overflow\n",
    "- acmicpc.net/workbook/view/459"
   ]
  },
  {
   "cell_type": "code",
   "execution_count": 15,
   "metadata": {},
   "outputs": [
    {
     "name": "stdout",
     "output_type": "stream",
     "text": [
      "불합격\n",
      "합격\n",
      "합격\n",
      "합격\n",
      "불합격\n"
     ]
    }
   ],
   "source": [
    "score = [50, 70, 65, 80, 40]\n",
    "for i in score:\n",
    "    if i >= 60:\n",
    "        print('합격')\n",
    "    else:\n",
    "        print('불합격')"
   ]
  },
  {
   "cell_type": "code",
   "execution_count": 26,
   "metadata": {},
   "outputs": [
    {
     "name": "stdout",
     "output_type": "stream",
     "text": [
      "합격\n"
     ]
    }
   ],
   "source": [
    "def fscore(a):\n",
    "    if a >= 60:\n",
    "        print('합격')\n",
    "    else:\n",
    "        print('불합격')\n",
    "\n",
    "fscore(80)"
   ]
  },
  {
   "cell_type": "code",
   "execution_count": 29,
   "metadata": {},
   "outputs": [
    {
     "name": "stdout",
     "output_type": "stream",
     "text": [
      "불합격\n",
      "합격\n",
      "불합격\n",
      "합격\n",
      "합격\n",
      "합격\n"
     ]
    }
   ],
   "source": [
    "def fscore(*args):\n",
    "    for i in args:\n",
    "        if i >= 60:\n",
    "            print('합격')\n",
    "        else:\n",
    "            print('불합격')\n",
    "\n",
    "fscore(50, 60, 5, 90, 75, 61)"
   ]
  },
  {
   "cell_type": "code",
   "execution_count": 30,
   "metadata": {},
   "outputs": [
    {
     "name": "stdout",
     "output_type": "stream",
     "text": [
      "불합격\n",
      "합격\n",
      "불합격\n",
      "합격\n",
      "합격\n",
      "합격\n"
     ]
    }
   ],
   "source": [
    "def fscore(*a):\n",
    "    for i in a:\n",
    "        if i >= 60:\n",
    "            print('합격')\n",
    "        else:\n",
    "            print('불합격')\n",
    "\n",
    "fscore(50, 60, 5, 90, 75, 61)"
   ]
  },
  {
   "cell_type": "code",
   "execution_count": 32,
   "metadata": {},
   "outputs": [
    {
     "data": {
      "text/plain": [
       "(986.9604401089358, 62.83185307179586)"
      ]
     },
     "execution_count": 32,
     "metadata": {},
     "output_type": "execute_result"
    }
   ],
   "source": [
    "import math\n",
    "\n",
    "def circle_info(radius):\n",
    "    return (radius*math.pi)**2, 2*math.pi*radius\n",
    "\n",
    "circle_info(10)"
   ]
  },
  {
   "cell_type": "code",
   "execution_count": 34,
   "metadata": {},
   "outputs": [
    {
     "data": {
      "text/plain": [
       "(986.9604401089358, 62.83185307179586)"
      ]
     },
     "execution_count": 34,
     "metadata": {},
     "output_type": "execute_result"
    }
   ],
   "source": [
    "def circle_info(radius):\n",
    "    area = (radius*math.pi)**2\n",
    "    circ = 2*math.pi*radius\n",
    "    return area, circ\n",
    "\n",
    "circle_info(10)"
   ]
  },
  {
   "cell_type": "code",
   "execution_count": null,
   "metadata": {},
   "outputs": [],
   "source": [
    "print(f'반지름: {radius}')"
   ]
  }
 ],
 "metadata": {
  "language_info": {
   "name": "python"
  },
  "orig_nbformat": 4
 },
 "nbformat": 4,
 "nbformat_minor": 2
}
