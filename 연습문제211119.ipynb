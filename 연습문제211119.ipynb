{
 "cells": [
  {
   "cell_type": "markdown",
   "metadata": {},
   "source": [
    "## 1. 연도를 입력으로 받아 윤년인지 아닌지를 출력하는 프로그램을 작성하시오.\n",
    "- 윤년은 연도가 4의 배수이면서, 100의 배수가 아닐 때 또는 400의 배수일 때이다.\n",
    "- 예를들어, 2012년은 4의 배수라서 윤년이지만, 1900년은 4의 배수이지만, 100의 배수이기 때문에\n",
    "- 윤년이 아니다. 하지만, 2000년은 400의 배수이기 때문에 윤년이다.)\n",
    "## 2. 본인의 생일을 1998 12 15 과 같이 년 월 일로 입력받아 오늘 날짜의 만 나이를 구하는 프로그램을 작성하시오.\n",
    "## 3. 세 자연수 a, b, c 가 피타고라스 정리 a^2 + b^2 = c^2 를 만족하면 피타고라스 수라고 부른다.\n",
    "- (여기서 a < b < c 이고 a + b > c)\n",
    "- 예를 들면, 3^2 + 4^2 = 9 + 16 = 25 = 5^2 이므로 3, 4, 5는 피타고라스 수입니다.\n",
    "- a + b + c = 1000 인 피타고라스 수를 구하시오. (답은 한가지 뿐이다.)"
   ]
  },
  {
   "cell_type": "code",
   "execution_count": 14,
   "metadata": {},
   "outputs": [
    {
     "name": "stdout",
     "output_type": "stream",
     "text": [
      "1900년은 윤년이 아닙니다.\n"
     ]
    }
   ],
   "source": [
    "# 문제 1\n",
    "year = int(input('연도를 입력하세요 : '))\n",
    "if year % 4 == 0 and year % 100 != 0 or year % 400 == 0:\n",
    "    print(f'{year}년은 윤년입니다.')\n",
    "else:\n",
    "    print(f'{year}년은 윤년이 아닙니다.')\n",
    "\n",
    "# 값 하나 받는 문제인데 생각없이 map(int, input().split()) 썼다가 % 지원하지 않는 피연산자 유형이라고 오류 뜸."
   ]
  },
  {
   "cell_type": "code",
   "execution_count": null,
   "metadata": {},
   "outputs": [],
   "source": [
    "# 풀이\n",
    "year = int(input())\n",
    "if year % 400 == 0:\n",
    "    print(f'{year}:윤년')\n",
    "elif year % 100 == 0:\n",
    "    print(f'{year}:윤년이 아님')\n",
    "elif year % 4 == 0:\n",
    "    print(f'{year}:윤년')\n",
    "else:\n",
    "    print(f'{year}:윤년이 아님')\n",
    "\n",
    "# 조건이 가장 작은 경우부터 생각하기"
   ]
  },
  {
   "cell_type": "code",
   "execution_count": 46,
   "metadata": {},
   "outputs": [
    {
     "name": "stdout",
     "output_type": "stream",
     "text": [
      "당신의 만 나이는 28살입니다.\n"
     ]
    }
   ],
   "source": [
    "# 문제 2\n",
    "from datetime import datetime # 현재 날짜 가져오기. 시간까지 나옴.\n",
    "\n",
    "# '만 나이'를 계산하는 방법 : 현재 연도에서 출생 연도를 뺀 후 생일이 지났으면 그대로 사용하고(당일 포함), 생일이 아직 안 지났으면 1살을 뺀다\n",
    "\n",
    "today = datetime.today().strftime(\"%Y%m%d\") # yyyymmdd 형태로 오늘 날짜 가져옴\n",
    "tYear = int(today[:4])\n",
    "# print(tYear) # 확인용\n",
    "tMonth = int(today[4:6])\n",
    "# print(tMonth) # 확인용\n",
    "tDay = int(today[-2:])\n",
    "# print(tDay)\n",
    "\n",
    "bYear, bMonth, bDay = map(int, input(\"생일을 입력하세요 : \").split()) # 생일 입력\n",
    "\n",
    "age = tYear - bYear\n",
    "\n",
    "if bMonth < tMonth: \n",
    "    print(f'당신의 만 나이는 {age}살입니다.') # 생일달이 오늘달보다 작은 경우 생일이 지났으므로 그대로\n",
    "elif bMonth == tMonth: # 생일달과 오늘달이 같으면 일자까지 확인해야 함\n",
    "    if bDay <= tDay:\n",
    "        print(f'당신의 만 나이는 {age}살입니다.')\n",
    "    else:\n",
    "        print(f'당신의 만 나이는 {age-1}살입니다.')\n",
    "else:\n",
    "    print(f'당신의 만 나이는 {age-1}살입니다.') # 생일달이 오늘달보다 큰 경우 생일이 지나지 않았으므로 -1살"
   ]
  },
  {
   "cell_type": "code",
   "execution_count": 6,
   "metadata": {},
   "outputs": [
    {
     "name": "stdout",
     "output_type": "stream",
     "text": [
      "생년월일이 1993-1-17인 사람의 만 나이는 28입니다.\n"
     ]
    }
   ],
   "source": [
    "# 풀이\n",
    "from datetime import date # 날짜까지 가져옴.\n",
    "today = date.today()\n",
    "\n",
    "year, month, day = map(int, input().split())\n",
    "year, month, day\n",
    "\n",
    "if month > today.month:\n",
    "    age = today.year - year -1\n",
    "elif month < today.month:\n",
    "    age = today.year - year\n",
    "else:\n",
    "    if day > today.day:\n",
    "        age = today.year - year\n",
    "print(f'생년월일이 {year}-{month}-{day}인 사람의 만 나이는 {age}입니다.')\n",
    "    "
   ]
  },
  {
   "cell_type": "code",
   "execution_count": 2,
   "metadata": {},
   "outputs": [
    {
     "name": "stdout",
     "output_type": "stream",
     "text": [
      "a + b + c = 10000인 피타고라스 수는 2000 3750 4250 입니다.\n"
     ]
    }
   ],
   "source": [
    "# 문제 3\n",
    "# 세 자연수 a, b, c 가 피타고라스 정리 a^2 + b^2 = c^2 를 만족하면 피타고라스 수라고 부른다.(a < b < c, a + b > c)\n",
    "# a + b + c = 1000 인 피타고라스 수는?\n",
    "\n",
    "for a in range(1, 10000):\n",
    "    for b in range(1, 10000):\n",
    "        c = 10000 - a - b\n",
    "        if (a*a) + (b*b) == (c*c) and a < b < c and a + b > c:\n",
    "            print('a + b + c = 10000인 피타고라스 수는', a, b, c, '입니다.')"
   ]
  },
  {
   "cell_type": "code",
   "execution_count": 9,
   "metadata": {},
   "outputs": [
    {
     "name": "stdout",
     "output_type": "stream",
     "text": [
      "200 375 425\n"
     ]
    }
   ],
   "source": [
    "# 풀이\n",
    "\n",
    "for a in range(1, 1001):\n",
    "    for b in range(a+1, 1001):\n",
    "        c = 1000 - a - b\n",
    "        if c*c == a*a + b*b:\n",
    "            print(a, b, c)\n",
    "            break"
   ]
  },
  {
   "cell_type": "code",
   "execution_count": 11,
   "metadata": {},
   "outputs": [
    {
     "name": "stdout",
     "output_type": "stream",
     "text": [
      "200 375 425\n"
     ]
    }
   ],
   "source": [
    "# 풀이\n",
    "\n",
    "flag = False\n",
    "for a in range(1, 333):\n",
    "    for b in range(a+1, 500):\n",
    "        c = 1000 - a - b\n",
    "        if c*c == a*a + b*b:\n",
    "            print(a, b, c)\n",
    "            flag = True\n",
    "            break\n",
    "    if flag:\n",
    "        break"
   ]
  },
  {
   "cell_type": "code",
   "execution_count": 47,
   "metadata": {},
   "outputs": [
    {
     "name": "stdout",
     "output_type": "stream",
     "text": [
      "    *\n",
      "   ***\n",
      "  *****\n",
      " *******\n",
      "*********\n",
      " *******\n",
      "  *****\n",
      "   ***\n",
      "    *\n"
     ]
    }
   ],
   "source": [
    "a = int(input())\n",
    "for i in range(a // 2 + 1):\n",
    "    for k in range((a // 2) - i):\n",
    "        print(' ', end='')\n",
    "    for k in range(2 * i + 1):\n",
    "        print('*', end='')\n",
    "    print()\n",
    "for i in range(a // 2):\n",
    "    for k in range(i + 1):\n",
    "        print(' ', end='')\n",
    "    for k in range(a - i * 2 - 2):\n",
    "        print('*', end='')\n",
    "    print()"
   ]
  },
  {
   "cell_type": "code",
   "execution_count": 61,
   "metadata": {},
   "outputs": [
    {
     "name": "stdout",
     "output_type": "stream",
     "text": [
      "  *  \n",
      " *** \n",
      "*****\n",
      " *** \n",
      "  *  \n"
     ]
    }
   ],
   "source": [
    "# 풀이\n",
    "\n",
    "# n = int(input())\n",
    "# for i in range(n):\n",
    "#     star = '*' * (2*i + 1)\n",
    "#     print(f'{star:^9s}')\n",
    "\n",
    "n = int(input())\n",
    "for i in range(n):\n",
    "    if i <= n // 2:\n",
    "        star = '*' * (2*i + 1)\n",
    "    else:\n",
    "        star = '*' * (2 * (n-i) - 1)\n",
    "    print(f'{star:^{n}s}')"
   ]
  },
  {
   "cell_type": "code",
   "execution_count": 62,
   "metadata": {},
   "outputs": [
    {
     "name": "stdout",
     "output_type": "stream",
     "text": [
      "29700\n"
     ]
    }
   ],
   "source": [
    "# 풀이\n",
    "total_seconds = 0\n",
    "for hour in range(24):\n",
    "    for minute in range(60):\n",
    "        display = f'{hour:02d}:{minute:02d}'\n",
    "        if '3' in display:\n",
    "            total_seconds += 60\n",
    "print(total_seconds)\n"
   ]
  },
  {
   "cell_type": "code",
   "execution_count": 92,
   "metadata": {},
   "outputs": [
    {
     "ename": "TypeError",
     "evalue": "sequence item 0: expected str instance, int found",
     "output_type": "error",
     "traceback": [
      "\u001b[1;31m---------------------------------------------------------------------------\u001b[0m",
      "\u001b[1;31mTypeError\u001b[0m                                 Traceback (most recent call last)",
      "\u001b[1;32m<ipython-input-92-0ca35f9b01ca>\u001b[0m in \u001b[0;36m<module>\u001b[1;34m\u001b[0m\n\u001b[0;32m      1\u001b[0m \u001b[0mq\u001b[0m \u001b[1;33m=\u001b[0m \u001b[0mlist\u001b[0m\u001b[1;33m(\u001b[0m\u001b[0mrange\u001b[0m\u001b[1;33m(\u001b[0m\u001b[1;36m1\u001b[0m\u001b[1;33m,\u001b[0m \u001b[1;36m1001\u001b[0m\u001b[1;33m,\u001b[0m \u001b[1;36m1\u001b[0m\u001b[1;33m)\u001b[0m\u001b[1;33m)\u001b[0m\u001b[1;33m\u001b[0m\u001b[1;33m\u001b[0m\u001b[0m\n\u001b[1;32m----> 2\u001b[1;33m \u001b[0mw\u001b[0m \u001b[1;33m=\u001b[0m \u001b[1;34m','\u001b[0m\u001b[1;33m.\u001b[0m\u001b[0mjoin\u001b[0m\u001b[1;33m(\u001b[0m\u001b[0mq\u001b[0m\u001b[1;33m)\u001b[0m\u001b[1;33m\u001b[0m\u001b[1;33m\u001b[0m\u001b[0m\n\u001b[0m",
      "\u001b[1;31mTypeError\u001b[0m: sequence item 0: expected str instance, int found"
     ]
    }
   ],
   "source": [
    "q = list(range(1, 1001, 1))\n",
    "w = ','.join(q)"
   ]
  },
  {
   "cell_type": "code",
   "execution_count": 73,
   "metadata": {},
   "outputs": [
    {
     "data": {
      "text/plain": [
       "{0: 9, 1: 19, 2: 19, 3: 19, 4: 19, 5: 19, 6: 19, 7: 19, 8: 19, 9: 19}"
      ]
     },
     "execution_count": 73,
     "metadata": {},
     "output_type": "execute_result"
    }
   ],
   "source": [
    "# 두자리수(10 ~ 99)\n",
    "number_count = {i:0 for i in range(10)}\n",
    "for n in range(10, 100):\n",
    "    ten, one = n//10, n%10\n",
    "    number_count[ten] += 1\n",
    "    number_count[one] += 1\n",
    "number_count"
   ]
  },
  {
   "cell_type": "code",
   "execution_count": 86,
   "metadata": {},
   "outputs": [
    {
     "data": {
      "text/plain": [
       "{0: 192,\n",
       " 1: 301,\n",
       " 2: 300,\n",
       " 3: 300,\n",
       " 4: 300,\n",
       " 5: 300,\n",
       " 6: 300,\n",
       " 7: 300,\n",
       " 8: 300,\n",
       " 9: 300}"
      ]
     },
     "execution_count": 86,
     "metadata": {},
     "output_type": "execute_result"
    }
   ],
   "source": [
    "# 문자열로 해결\n",
    "number_count = {i:0 for i in range(10)}\n",
    "number_str = ''\n",
    "for i in range(1, 1001) :\n",
    "    number_str += str(i)\n",
    "for i in range(10):\n",
    "    number_count[i] = number_str.count(str(i))\n",
    "number_count"
   ]
  },
  {
   "cell_type": "code",
   "execution_count": 137,
   "metadata": {},
   "outputs": [
    {
     "name": "stdout",
     "output_type": "stream",
     "text": [
      "6\n",
      "28\n",
      "496\n"
     ]
    }
   ],
   "source": [
    "N = int(input())\n",
    "for i in range(2, N+1):\n",
    "    sum_of_divisor = 0\n",
    "    for k in range(1, i):\n",
    "        if i % k == 0:\n",
    "            sum_of_divisor += k\n",
    "    if sum_of_divisor == i:\n",
    "        print(sum_of_divisor)"
   ]
  },
  {
   "cell_type": "code",
   "execution_count": null,
   "metadata": {},
   "outputs": [
    {
     "name": "stdout",
     "output_type": "stream",
     "text": [
      "합의 제곱 - 제곱의 합 = 170\n"
     ]
    }
   ],
   "source": [
    "N = int(input())\n",
    "sum_of_square = 0\n",
    "sum_of_plain = 0\n",
    "for i in range(1, N+1):\n",
    "    sum_of_plain += i\n",
    "    sum_of_square += i*i\n",
    "print(f'합의 제곱 - 제곱의 합 = {sum_of_plain**2 - sum_of_square}')"
   ]
  },
  {
   "cell_type": "code",
   "execution_count": 166,
   "metadata": {},
   "outputs": [],
   "source": [
    "def is_perfect(n): # 자연수 n을 입력 받아 완전수인지 판별하는 함수를 만듦\n",
    "    sum_of_divisor = 0 # 약수의 합을 담을 변수 만들고\n",
    "    for i in range(1, n): # i를 1부터 자기 자신 전 수까지 반복해서\n",
    "        if n % i == 0: # 약수를 찾는다\n",
    "            sum_of_divisor += i # 약수가 맞으면 변수에 하나씩 더함\n",
    "    if sum_of_divisor == n: # 이렇게 찾은 약수의 합이 처음 입력받은 값과 같다면\n",
    "        return True # true\n",
    "    return False # 아니면 false"
   ]
  },
  {
   "cell_type": "code",
   "execution_count": 172,
   "metadata": {},
   "outputs": [
    {
     "data": {
      "text/plain": [
       "True"
      ]
     },
     "execution_count": 172,
     "metadata": {},
     "output_type": "execute_result"
    }
   ],
   "source": [
    "is_perfect(28)"
   ]
  },
  {
   "cell_type": "code",
   "execution_count": null,
   "metadata": {},
   "outputs": [],
   "source": [
    "\n",
    "n = [i for i in range(1,N) if N%i == 0]\n",
    "answer=sum(n)\n",
    "\n",
    "if answer==n:\n",
    "    print(True)\n",
    "else:\n",
    "    print(False)"
   ]
  }
 ],
 "metadata": {
  "interpreter": {
   "hash": "6a7fc058304f7c08047631c620bce2cb0bb77e906f71fda4e433d35efbc59b07"
  },
  "kernelspec": {
   "display_name": "Python 3.8.8 64-bit ('base': conda)",
   "language": "python",
   "name": "python3"
  },
  "language_info": {
   "codemirror_mode": {
    "name": "ipython",
    "version": 3
   },
   "file_extension": ".py",
   "mimetype": "text/x-python",
   "name": "python",
   "nbconvert_exporter": "python",
   "pygments_lexer": "ipython3",
   "version": "3.8.8"
  },
  "orig_nbformat": 4
 },
 "nbformat": 4,
 "nbformat_minor": 2
}
