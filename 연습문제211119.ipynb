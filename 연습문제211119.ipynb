{
 "cells": [
  {
   "cell_type": "markdown",
   "metadata": {},
   "source": [
    "## 1. 연도를 입력으로 받아 윤년인지 아닌지를 출력하는 프로그램을 작성하시오.\n",
    "- 윤년은 연도가 4의 배수이면서, 100의 배수가 아닐 때 또는 400의 배수일 때이다.\n",
    "- 예를들어, 2012년은 4의 배수라서 윤년이지만, 1900년은 4의 배수이지만, 100의 배수이기 때문에\n",
    "- 윤년이 아니다. 하지만, 2000년은 400의 배수이기 때문에 윤년이다.)\n",
    "## 2. 본인의 생일을 1998 12 15 과 같이 년 월 일로 입력받아 오늘 날짜의 만 나이를 구하는 프로그램을 작성하시오.\n",
    "## 3. 세 자연수 a, b, c 가 피타고라스 정리 a^2 + b^2 = c^2 를 만족하면 피타고라스 수라고 부른다.\n",
    "- (여기서 a < b < c 이고 a + b > c)\n",
    "- 예를 들면, 3^2 + 4^2 = 9 + 16 = 25 = 5^2 이므로 3, 4, 5는 피타고라스 수입니다.\n",
    "- a + b + c = 1000 인 피타고라스 수를 구하시오. (답은 한가지 뿐이다.)"
   ]
  },
  {
   "cell_type": "code",
   "execution_count": 14,
   "metadata": {},
   "outputs": [
    {
     "name": "stdout",
     "output_type": "stream",
     "text": [
      "1900년은 윤년이 아닙니다.\n"
     ]
    }
   ],
   "source": [
    "# 문제 1\n",
    "year = int(input('연도를 입력하세요 : '))\n",
    "if year % 4 == 0 and year % 100 != 0 or year % 400 == 0:\n",
    "    print(f'{year}년은 윤년입니다.')\n",
    "else:\n",
    "    print(f'{year}년은 윤년이 아닙니다.')\n",
    "\n",
    "# 값 하나 받는 문제인데 생각없이 map(int, input().split()) 썼다가 % 지원하지 않는 피연산자 유형이라고 오류 뜸."
   ]
  },
  {
   "cell_type": "code",
   "execution_count": 46,
   "metadata": {},
   "outputs": [
    {
     "name": "stdout",
     "output_type": "stream",
     "text": [
      "당신의 만 나이는 28살입니다.\n"
     ]
    }
   ],
   "source": [
    "# 문제 2\n",
    "from datetime import datetime # 현재 날짜 가져오기\n",
    "\n",
    "# '만 나이'를 계산하는 방법 : 현재 연도에서 출생 연도를 뺀 후 생일이 지났으면 그대로 사용하고(당일 포함), 생일이 아직 안 지났으면 1살을 뺀다\n",
    "\n",
    "today = datetime.today().strftime(\"%Y%m%d\") # yyyymmdd 형태로 오늘 날짜 가져옴\n",
    "tYear = int(today[:4])\n",
    "# print(tYear) # 확인용\n",
    "tMonth = int(today[4:6])\n",
    "# print(tMonth) # 확인용\n",
    "tDay = int(today[-2:])\n",
    "# print(tDay)\n",
    "\n",
    "bYear, bMonth, bDay = map(int, input(\"생일을 입력하세요 : \").split()) # 생일 입력\n",
    "\n",
    "age = tYear - bYear\n",
    "\n",
    "if bMonth < tMonth: \n",
    "    print(f'당신의 만 나이는 {age}살입니다.') # 생일달이 오늘달보다 작은 경우 생일이 지났으므로 그대로\n",
    "elif bMonth == tMonth: # 생일달과 오늘달이 같으면 일자까지 확인해야 함\n",
    "    if bDay <= tDay:\n",
    "        print(f'당신의 만 나이는 {age}살입니다.')\n",
    "    else:\n",
    "        print(f'당신의 만 나이는 {age-1}살입니다.')\n",
    "else:\n",
    "    print(f'당신의 만 나이는 {age-1}살입니다.') # 생일달이 오늘달보다 큰 경우 생일이 지나지 않았으므로 -1살"
   ]
  },
  {
   "cell_type": "code",
   "execution_count": 69,
   "metadata": {},
   "outputs": [
    {
     "name": "stdout",
     "output_type": "stream",
     "text": [
      "a + b + c = 1000인 피타고라스 수는 200 375 425 입니다.\n"
     ]
    }
   ],
   "source": [
    "# 문제 3\n",
    "# 세 자연수 a, b, c 가 피타고라스 정리 a^2 + b^2 = c^2 를 만족하면 피타고라스 수라고 부른다.(a < b < c, a + b > c)\n",
    "# a + b + c = 1000 인 피타고라스 수는?\n",
    "\n",
    "for a in range(1, 1000):\n",
    "    for b in range(1, 1000):\n",
    "        c = 1000 - a - b\n",
    "        if (a*a) + (b*b) == (c*c) and a < b < c and a + b > c:\n",
    "            print('a + b + c = 1000인 피타고라스 수는', a, b, c, '입니다.')"
   ]
  }
 ],
 "metadata": {
  "interpreter": {
   "hash": "6a7fc058304f7c08047631c620bce2cb0bb77e906f71fda4e433d35efbc59b07"
  },
  "kernelspec": {
   "display_name": "Python 3.8.8 64-bit ('base': conda)",
   "language": "python",
   "name": "python3"
  },
  "language_info": {
   "codemirror_mode": {
    "name": "ipython",
    "version": 3
   },
   "file_extension": ".py",
   "mimetype": "text/x-python",
   "name": "python",
   "nbconvert_exporter": "python",
   "pygments_lexer": "ipython3",
   "version": "3.8.8"
  },
  "orig_nbformat": 4
 },
 "nbformat": 4,
 "nbformat_minor": 2
}
