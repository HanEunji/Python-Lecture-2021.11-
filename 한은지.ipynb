{
 "cells": [
  {
   "cell_type": "markdown",
   "metadata": {},
   "source": [
    "#### 11. input()으로 사용자로부터 정수를 한 개 입력받아, 그 숫자를 숫자 크기만큼 반복해서 출력하는 파이썬 스크립트를 작성하세요. 이때 출력 앞에 공백을 한 칸 주어서, 입력과 출력이 구분되게 합니다. 단, for문을 사용하세요."
   ]
  },
  {
   "cell_type": "code",
   "execution_count": null,
   "metadata": {},
   "outputs": [],
   "source": [
    "# 11\n",
    "a = int(input())\n",
    "for i in range(a):\n",
    "    print(a)"
   ]
  },
  {
   "cell_type": "code",
   "execution_count": null,
   "metadata": {},
   "outputs": [],
   "source": [
    "# 11번 출력 앞에 공백을 한 칸\n",
    "a = int(input())\n",
    "for i in range(a):\n",
    "    print('', a)"
   ]
  },
  {
   "cell_type": "code",
   "execution_count": null,
   "metadata": {},
   "outputs": [],
   "source": [
    "# 풀이\n",
    "n = int(input())\n",
    "print('입력한 숫자', n)\n",
    "for i in range(n):\n",
    "    print(n)"
   ]
  },
  {
   "cell_type": "markdown",
   "metadata": {},
   "source": [
    "#### 12. input()으로 사용자로부터 입력받은 정수를 계속 더해나가다가, 음수가 입력되면 중단하고 그 전까지 계산한 값을 출력하는 파이썬 스크립트를 작성하세요."
   ]
  },
  {
   "cell_type": "code",
   "execution_count": 73,
   "metadata": {},
   "outputs": [
    {
     "name": "stdout",
     "output_type": "stream",
     "text": [
      "3\n"
     ]
    }
   ],
   "source": [
    "result = 0\n",
    "while a >= 0:\n",
    "    a = int(input())\n",
    "    if a < 0: \n",
    "        break\n",
    "    else:\n",
    "        result += a \n",
    "print(result)"
   ]
  },
  {
   "cell_type": "code",
   "execution_count": null,
   "metadata": {},
   "outputs": [],
   "source": [
    "# 풀이\n",
    "sum_of_input = 0\n",
    "while True:\n",
    "    n = int(input())\n",
    "    print(n)\n",
    "    if n < 0:\n",
    "        break;\n",
    "    sum_of_input += n\n",
    "print(sum_of_input)  "
   ]
  },
  {
   "cell_type": "markdown",
   "metadata": {},
   "source": [
    "#### 13. 복리 예금…"
   ]
  },
  {
   "cell_type": "code",
   "execution_count": 72,
   "metadata": {},
   "outputs": [
    {
     "data": {
      "text/plain": [
       "42875000.0"
      ]
     },
     "execution_count": 72,
     "metadata": {},
     "output_type": "execute_result"
    }
   ],
   "source": [
    "# 13\n",
    "def compound_amount():\n",
    "   Q = P * (1 + r) ** n\n",
    "   return Q\n",
    "\n",
    "P = 1000000\n",
    "r = 2.5\n",
    "n = 3\n",
    "compound_amount()\n",
    "\n",
    "# a = 1000000 * (1 + 2.5) ** 3 # 42875000.0 "
   ]
  },
  {
   "cell_type": "code",
   "execution_count": 138,
   "metadata": {},
   "outputs": [
    {
     "name": "stdout",
     "output_type": "stream",
     "text": [
      "1076890.62\n"
     ]
    }
   ],
   "source": [
    "# 풀이\n",
    "def compound_amount(p, r, n):\n",
    "    return p * (1 + r) ** n\n",
    "\n",
    "print(round(compound_amount(1000000, 0.025, 3), 2))\n",
    "\n",
    "# 아~ 2.5%였지"
   ]
  },
  {
   "cell_type": "markdown",
   "metadata": {},
   "source": [
    "#### 14. 정수 num을 매개변수로 받아 각 자리 숫자(digit)의 합을 계산하는 sumOfDigits() 함수를 작성하고, 예를 들어 검증"
   ]
  },
  {
   "cell_type": "code",
   "execution_count": 74,
   "metadata": {},
   "outputs": [
    {
     "name": "stdout",
     "output_type": "stream",
     "text": [
      "45824의 각 자리수를 더한 값은 23입니다.\n"
     ]
    }
   ],
   "source": [
    "# 14\n",
    "def sumOfDigits(num):\n",
    "    a = str(num)\n",
    "    b = len(a)\n",
    "    c = 0\n",
    "    for i in range(b):\n",
    "        c += int(a[i])\n",
    "    return c\n",
    "\n",
    "print(f'45824의 각 자리수를 더한 값은 {sumOfDigits(45824)}입니다.')"
   ]
  },
  {
   "cell_type": "code",
   "execution_count": 141,
   "metadata": {},
   "outputs": [
    {
     "name": "stdout",
     "output_type": "stream",
     "text": [
      "15\n"
     ]
    }
   ],
   "source": [
    "# 풀이\n",
    "def sumOfDigits(num):\n",
    "    s = str(num)\n",
    "    sum_of_digits = 0\n",
    "    for digit in list(s):\n",
    "        sum_of_digits += int(digit)\n",
    "    return sum_of_digits\n",
    "\n",
    "print(sumOfDigits(12345))"
   ]
  },
  {
   "cell_type": "markdown",
   "metadata": {},
   "source": [
    "#### 15. 1과 자기 자신으로만 나누어 떨어지는 자연수를 소수…"
   ]
  },
  {
   "cell_type": "code",
   "execution_count": 125,
   "metadata": {},
   "outputs": [],
   "source": [
    "# 15 pass\n",
    "a = []\n",
    "for i in range(2, 101):\n",
    "    if i % i == 0:\n",
    "        pass"
   ]
  },
  {
   "cell_type": "code",
   "execution_count": 145,
   "metadata": {},
   "outputs": [
    {
     "name": "stdout",
     "output_type": "stream",
     "text": [
      "[2, 3, 5, 7, 11, 13, 17, 19, 23, 29, 31, 37, 41, 43, 47, 53, 59, 61, 67, 71, 73, 79, 83, 89, 97, 101, 103, 107, 109, 113, 127, 131, 137, 139, 149, 151, 157, 163, 167, 173, 179, 181, 191, 193, 197, 199]\n"
     ]
    }
   ],
   "source": [
    "# 풀이\n",
    "def is_prime(n):\n",
    "    for i in range(2,n):\n",
    "        if n % i == 0:\n",
    "            return False\n",
    "    return True\n",
    "\n",
    "prime_numbers = [i for i in range(2, 201) if is_prime(i)]\n",
    "print(prime_numbers)"
   ]
  },
  {
   "cell_type": "code",
   "execution_count": 144,
   "metadata": {},
   "outputs": [
    {
     "name": "stdout",
     "output_type": "stream",
     "text": [
      "[2, 3, 5, 7, 11, 13, 17, 19, 23, 29, 31, 37, 41, 43, 47, 53, 59, 61, 67, 71, 73, 79, 83, 89, 97]\n"
     ]
    }
   ],
   "source": [
    "numbers = list(range(2,101))\n",
    "for i in prime_numbers:\n",
    "    for k in range(2*i,101,i):\n",
    "        if k in numbers:\n",
    "            numbers.remove(k)\n",
    "print(numbers)"
   ]
  },
  {
   "cell_type": "markdown",
   "metadata": {},
   "source": [
    "#### 16"
   ]
  },
  {
   "cell_type": "code",
   "execution_count": 130,
   "metadata": {},
   "outputs": [
    {
     "name": "stdout",
     "output_type": "stream",
     "text": [
      "입력한 날짜는 2021-02-28입니다.\n"
     ]
    }
   ],
   "source": [
    "a = map(int, input().split())\n",
    "a = list(a)\n",
    "print(f'입력한 날짜는 {a[0]:4d}-{a[1]:02d}-{a[2]:02d}입니다.')"
   ]
  },
  {
   "cell_type": "code",
   "execution_count": 146,
   "metadata": {},
   "outputs": [],
   "source": [
    "# 다음 날짜 실패!\n",
    "\n",
    "# from datetime import date\n",
    "# today = f'{a[0]:4d}-{a[1]:02d}-{a[2]:02d}'\n",
    "# print(today)\n",
    "# after_1_days = today + datetime(days=1)\n",
    "# print(f'입력한 날짜의 다음 날짜는 {after_1_days}입니다.')"
   ]
  },
  {
   "cell_type": "code",
   "execution_count": null,
   "metadata": {},
   "outputs": [],
   "source": [
    "# 풀이\n",
    "month_day = {1:31,2:28,3:31,4:30,5:31,6:30,7:31,8:31,9:30,10:31,11:30,12:30}\n",
    "year, month, day = map(int, input('년 월 일').split())\n",
    "print(f'{year:04d}-{month:02d}-{day:02d}')\n",
    "\n",
    "new_day = day + 1\n",
    "new_month, new_year = month, year\n",
    "if new_day > month_day[month]:\n",
    "    new_day = 1\n",
    "    new_month = month + 1\n",
    "    if new_month > 12:\n",
    "        new_month = 1 \n",
    "        new_year = year + 1\n",
    "    \n",
    "print(f'{new_year:04d}-{new_month:02d}-{new_day:02d}')"
   ]
  },
  {
   "cell_type": "markdown",
   "metadata": {},
   "source": [
    "#### 17"
   ]
  },
  {
   "cell_type": "code",
   "execution_count": 44,
   "metadata": {},
   "outputs": [
    {
     "data": {
      "text/plain": [
       "'5.000'"
      ]
     },
     "execution_count": 44,
     "metadata": {},
     "output_type": "execute_result"
    }
   ],
   "source": [
    "# 17\n",
    "def hypotenuse(a, b):\n",
    "    c = (a ** 2 + b ** 2) ** (1/2)\n",
    "    return f'{c:.3f}'\n",
    "\n",
    "hypotenuse(3, 4)"
   ]
  },
  {
   "cell_type": "code",
   "execution_count": null,
   "metadata": {},
   "outputs": [],
   "source": [
    "# 풀이\n",
    "\n",
    "import math\n",
    "def hypotenuse(a, b):\n",
    "    return math.sqrt(a*a + b*b)\n",
    "\n",
    "print(round(hypotenuse(3,5),3))"
   ]
  },
  {
   "cell_type": "markdown",
   "metadata": {},
   "source": [
    "#### 18. 주사위"
   ]
  },
  {
   "cell_type": "code",
   "execution_count": 71,
   "metadata": {},
   "outputs": [
    {
     "name": "stdout",
     "output_type": "stream",
     "text": [
      "9\n",
      "4\n",
      "6\n",
      "5\n",
      "7\n",
      "7\n",
      "6\n",
      "7\n",
      "4\n",
      "7\n",
      "7\n",
      "7\n",
      "8\n",
      "8\n",
      "4\n",
      "8\n",
      "5\n",
      "8\n",
      "12\n"
     ]
    }
   ],
   "source": [
    "# 18\n",
    "import random\n",
    "dice1 = random.randint(1, 6)\n",
    "dice2 = random.randint(1, 6)\n",
    "a = dice1 + dice2\n",
    "while a < 10:\n",
    "\n",
    "    dice1 = random.randint(1, 6)\n",
    "    dice2 = random.randint(1, 6)\n",
    "    a = dice1 + dice2\n",
    "    print(a)\n",
    "\n"
   ]
  },
  {
   "cell_type": "code",
   "execution_count": 158,
   "metadata": {},
   "outputs": [
    {
     "name": "stdout",
     "output_type": "stream",
     "text": [
      "8\n",
      "10\n"
     ]
    }
   ],
   "source": [
    "# 풀이\n",
    "import random\n",
    "while True:\n",
    "    sum_2_dice = random.randint(1,6)\n",
    "    sum_2_dice += random.randint(1,6)\n",
    "    print(sum_2_dice)\n",
    "    if sum_2_dice >= 10:\n",
    "        break"
   ]
  },
  {
   "cell_type": "markdown",
   "metadata": {},
   "source": [
    "#### 19. 알람시계"
   ]
  },
  {
   "cell_type": "code",
   "execution_count": 87,
   "metadata": {},
   "outputs": [
    {
     "name": "stdout",
     "output_type": "stream",
     "text": [
      "2021-11-25 14:17:30.243830\n"
     ]
    }
   ],
   "source": [
    "# 19\n",
    "import datetime\n",
    "\n",
    "# chang_time = map(int, input().split())\n",
    "chang_time = '2021-11-25 15:02:30.243830'\n",
    "convert_time = datetime.datetime.strptime(chang_time, '%Y-%m-%d %H:%M:%S.%f')\n",
    "\n",
    "time = convert_time - datetime.timedelta(minutes=45)\n",
    "print(time)\n"
   ]
  },
  {
   "cell_type": "code",
   "execution_count": null,
   "metadata": {},
   "outputs": [],
   "source": [
    "# 풀이\n",
    "def early_alarm(hour, minute):\n",
    "    new_hour, new_min = hour, minute-45\n",
    "    if new_min < 0:\n",
    "        new_min = 60 + minute - 45\n",
    "        new_hour = hour - 1\n",
    "    return new_hour, new_min\n",
    "\n",
    "h, m = map(int, input('시 분').split())\n",
    "new_hour, new_min = early_alarm(h, m)\n",
    "print(f'{h:02d}:{m:02d} ==> {new_hour:02d}:{new_min:02d}')"
   ]
  },
  {
   "cell_type": "markdown",
   "metadata": {},
   "source": [
    "#### 20. www.lipsum.com"
   ]
  },
  {
   "cell_type": "code",
   "execution_count": 151,
   "metadata": {},
   "outputs": [],
   "source": [
    "# 1. 본문의 내용 텍스트 파일에 저장.\n",
    "with open('lipsum.txt', 'w') as file:\n",
    "    contents =\"\"\"\n",
    "What is Lorem Ipsum?\n",
    "Lorem Ipsum is simply dummy text of the printing and typesetting industry. Lorem Ipsum has been the industry's standard dummy text ever since the 1500s, when an unknown printer took a galley of type and scrambled it to make a type specimen book. It has survived not only five centuries, but also the leap into electronic typesetting, remaining essentially unchanged. It was popularised in the 1960s with the release of Letraset sheets containing Lorem Ipsum passages, and more recently with desktop publishing software like Aldus PageMaker including versions of Lorem Ipsum.\n",
    "\n",
    "Why do we use it?\n",
    "It is a long established fact that a reader will be distracted by the readable content of a page when looking at its layout. The point of using Lorem Ipsum is that it has a more-or-less normal distribution of letters, as opposed to using 'Content here, content here', making it look like readable English. Many desktop publishing packages and web page editors now use Lorem Ipsum as their default model text, and a search for 'lorem ipsum' will uncover many web sites still in their infancy. Various versions have evolved over the years, sometimes by accident, sometimes on purpose (injected humour and the like).\n",
    "\n",
    "\n",
    "Where does it come from?\n",
    "Contrary to popular belief, Lorem Ipsum is not simply random text. It has roots in a piece of classical Latin literature from 45 BC, making it over 2000 years old. Richard McClintock, a Latin professor at Hampden-Sydney College in Virginia, looked up one of the more obscure Latin words, consectetur, from a Lorem Ipsum passage, and going through the cites of the word in classical literature, discovered the undoubtable source. Lorem Ipsum comes from sections 1.10.32 and 1.10.33 of \"de Finibus Bonorum et Malorum\" (The Extremes of Good and Evil) by Cicero, written in 45 BC. This book is a treatise on the theory of ethics, very popular during the Renaissance. The first line of Lorem Ipsum, \"Lorem ipsum dolor sit amet..\", comes from a line in section 1.10.32.\n",
    "\n",
    "The standard chunk of Lorem Ipsum used since the 1500s is reproduced below for those interested. Sections 1.10.32 and 1.10.33 from \"de Finibus Bonorum et Malorum\" by Cicero are also reproduced in their exact original form, accompanied by English versions from the 1914 translation by H. Rackham.\n",
    "\n",
    "Where can I get some?\n",
    "There are many variations of passages of Lorem Ipsum available, but the majority have suffered alteration in some form, by injected humour, or randomised words which don't look even slightly believable. If you are going to use a passage of Lorem Ipsum, you need to be sure there isn't anything embarrassing hidden in the middle of text. All the Lorem Ipsum generators on the Internet tend to repeat predefined chunks as necessary, making this the first true generator on the Internet. It uses a dictionary of over 200 Latin words, combined with a handful of model sentence structures, to generate Lorem Ipsum which looks reasonable. The generated Lorem Ipsum is therefore always free from repetition, injected humour, or non-characteristic words etc.\n",
    "\"\"\"\n",
    "    file.write(contents)"
   ]
  },
  {
   "cell_type": "code",
   "execution_count": 147,
   "metadata": {},
   "outputs": [
    {
     "data": {
      "text/plain": [
       "['\\n',\n",
       " 'What is Lorem Ipsum?\\n',\n",
       " \"Lorem Ipsum is simply dummy text of the printing and typesetting industry. Lorem Ipsum has been the industry's standard dummy text ever since the 1500s, when an unknown printer took a galley of type and scrambled it to make a type specimen book. It has survived not only five centuries, but also the leap into electronic typesetting, remaining essentially unchanged. It was popularised in the 1960s with the release of Letraset sheets containing Lorem Ipsum passages, and more recently with desktop publishing software like Aldus PageMaker including versions of Lorem Ipsum.\\n\",\n",
       " '\\n',\n",
       " 'Why do we use it?\\n',\n",
       " \"It is a long established fact that a reader will be distracted by the readable content of a page when looking at its layout. The point of using Lorem Ipsum is that it has a more-or-less normal distribution of letters, as opposed to using 'Content here, content here', making it look like readable English. Many desktop publishing packages and web page editors now use Lorem Ipsum as their default model text, and a search for 'lorem ipsum' will uncover many web sites still in their infancy. Various versions have evolved over the years, sometimes by accident, sometimes on purpose (injected humour and the like).\\n\",\n",
       " '\\n',\n",
       " '\\n',\n",
       " 'Where does it come from?\\n',\n",
       " 'Contrary to popular belief, Lorem Ipsum is not simply random text. It has roots in a piece of classical Latin literature from 45 BC, making it over 2000 years old. Richard McClintock, a Latin professor at Hampden-Sydney College in Virginia, looked up one of the more obscure Latin words, consectetur, from a Lorem Ipsum passage, and going through the cites of the word in classical literature, discovered the undoubtable source. Lorem Ipsum comes from sections 1.10.32 and 1.10.33 of \"de Finibus Bonorum et Malorum\" (The Extremes of Good and Evil) by Cicero, written in 45 BC. This book is a treatise on the theory of ethics, very popular during the Renaissance. The first line of Lorem Ipsum, \"Lorem ipsum dolor sit amet..\", comes from a line in section 1.10.32.\\n',\n",
       " '\\n',\n",
       " 'The standard chunk of Lorem Ipsum used since the 1500s is reproduced below for those interested. Sections 1.10.32 and 1.10.33 from \"de Finibus Bonorum et Malorum\" by Cicero are also reproduced in their exact original form, accompanied by English versions from the 1914 translation by H. Rackham.\\n',\n",
       " '\\n',\n",
       " 'Where can I get some?\\n',\n",
       " \"There are many variations of passages of Lorem Ipsum available, but the majority have suffered alteration in some form, by injected humour, or randomised words which don't look even slightly believable. If you are going to use a passage of Lorem Ipsum, you need to be sure there isn't anything embarrassing hidden in the middle of text. All the Lorem Ipsum generators on the Internet tend to repeat predefined chunks as necessary, making this the first true generator on the Internet. It uses a dictionary of over 200 Latin words, combined with a handful of model sentence structures, to generate Lorem Ipsum which looks reasonable. The generated Lorem Ipsum is therefore always free from repetition, injected humour, or non-characteristic words etc.\\n\"]"
      ]
     },
     "execution_count": 147,
     "metadata": {},
     "output_type": "execute_result"
    }
   ],
   "source": [
    "# 2. 텍스트 파일의 내용 불러와서 단어의 개수 세기\n",
    "# with open('lipsum.txt', 'r') as file:\n",
    "#     a = file.readlines()\n",
    "# a\n",
    "\n",
    "# 본문 외에 줄바꿈 표시(\\n) 등의 이스케이프 문자도 추가로 들어간 상태(\\'…)\n",
    "\n",
    "# a = ''.join(a) # 우선 문자열로 만들고\n",
    "# a.lower() # 소문자로 변환\n",
    "\n",
    "# 구두점 및 기타 없애기\n",
    "\n"
   ]
  },
  {
   "cell_type": "code",
   "execution_count": 154,
   "metadata": {},
   "outputs": [],
   "source": [
    "with open('lipsum.txt', 'r') as file:\n",
    "    lines = file.readlines()\n",
    "\n",
    "text = []\n",
    "for line in lines:\n",
    "    if line == '\\n':\n",
    "        continue\n",
    "    text += line.split()\n",
    "\n",
    "words = []\n",
    "for word in text:\n",
    "    word = word.strip(',.?\\'\\\"()').lower()\n",
    "    words.append(word)"
   ]
  },
  {
   "cell_type": "code",
   "execution_count": 155,
   "metadata": {},
   "outputs": [
    {
     "data": {
      "text/plain": [
       "{'what': 1,\n",
       " 'is': 8,\n",
       " 'lorem': 19,\n",
       " 'ipsum': 19,\n",
       " 'simply': 2,\n",
       " 'dummy': 2,\n",
       " 'text': 5,\n",
       " 'of': 21,\n",
       " 'the': 28,\n",
       " 'printing': 1,\n",
       " 'and': 10,\n",
       " 'typesetting': 2,\n",
       " 'industry': 1,\n",
       " 'has': 4,\n",
       " 'been': 1,\n",
       " \"industry's\": 1,\n",
       " 'standard': 2,\n",
       " 'ever': 1,\n",
       " 'since': 2,\n",
       " '1500s': 2,\n",
       " 'when': 2,\n",
       " 'an': 1,\n",
       " 'unknown': 1,\n",
       " 'printer': 1,\n",
       " 'took': 1,\n",
       " 'a': 15,\n",
       " 'galley': 1,\n",
       " 'type': 2,\n",
       " 'scrambled': 1,\n",
       " 'it': 11,\n",
       " 'to': 7,\n",
       " 'make': 1,\n",
       " 'specimen': 1,\n",
       " 'book': 2,\n",
       " 'survived': 1,\n",
       " 'not': 2,\n",
       " 'only': 1,\n",
       " 'five': 1,\n",
       " 'centuries': 1,\n",
       " 'but': 2,\n",
       " 'also': 2,\n",
       " 'leap': 1,\n",
       " 'into': 1,\n",
       " 'electronic': 1,\n",
       " 'remaining': 1,\n",
       " 'essentially': 1,\n",
       " 'unchanged': 1,\n",
       " 'was': 1,\n",
       " 'popularised': 1,\n",
       " 'in': 10,\n",
       " '1960s': 1,\n",
       " 'with': 3,\n",
       " 'release': 1,\n",
       " 'letraset': 1,\n",
       " 'sheets': 1,\n",
       " 'containing': 1,\n",
       " 'passages': 2,\n",
       " 'more': 2,\n",
       " 'recently': 1,\n",
       " 'desktop': 2,\n",
       " 'publishing': 2,\n",
       " 'software': 1,\n",
       " 'like': 3,\n",
       " 'aldus': 1,\n",
       " 'pagemaker': 1,\n",
       " 'including': 1,\n",
       " 'versions': 3,\n",
       " 'why': 1,\n",
       " 'do': 1,\n",
       " 'we': 1,\n",
       " 'use': 3,\n",
       " 'long': 1,\n",
       " 'established': 1,\n",
       " 'fact': 1,\n",
       " 'that': 2,\n",
       " 'reader': 1,\n",
       " 'will': 2,\n",
       " 'be': 2,\n",
       " 'distracted': 1,\n",
       " 'by': 7,\n",
       " 'readable': 2,\n",
       " 'content': 3,\n",
       " 'page': 2,\n",
       " 'looking': 1,\n",
       " 'at': 2,\n",
       " 'its': 1,\n",
       " 'layout': 1,\n",
       " 'point': 1,\n",
       " 'using': 2,\n",
       " 'more-or-less': 1,\n",
       " 'normal': 1,\n",
       " 'distribution': 1,\n",
       " 'letters': 1,\n",
       " 'as': 3,\n",
       " 'opposed': 1,\n",
       " 'here': 2,\n",
       " 'making': 3,\n",
       " 'look': 2,\n",
       " 'english': 2,\n",
       " 'many': 3,\n",
       " 'packages': 1,\n",
       " 'web': 2,\n",
       " 'editors': 1,\n",
       " 'now': 1,\n",
       " 'their': 3,\n",
       " 'default': 1,\n",
       " 'model': 2,\n",
       " 'search': 1,\n",
       " 'for': 2,\n",
       " 'uncover': 1,\n",
       " 'sites': 1,\n",
       " 'still': 1,\n",
       " 'infancy': 1,\n",
       " 'various': 1,\n",
       " 'have': 2,\n",
       " 'evolved': 1,\n",
       " 'over': 3,\n",
       " 'years': 2,\n",
       " 'sometimes': 2,\n",
       " 'accident': 1,\n",
       " 'on': 4,\n",
       " 'purpose': 1,\n",
       " 'injected': 3,\n",
       " 'humour': 3,\n",
       " 'where': 2,\n",
       " 'does': 1,\n",
       " 'come': 1,\n",
       " 'from': 8,\n",
       " 'contrary': 1,\n",
       " 'popular': 2,\n",
       " 'belief': 1,\n",
       " 'random': 1,\n",
       " 'roots': 1,\n",
       " 'piece': 1,\n",
       " 'classical': 2,\n",
       " 'latin': 4,\n",
       " 'literature': 2,\n",
       " '45': 2,\n",
       " 'bc': 2,\n",
       " '2000': 1,\n",
       " 'old': 1,\n",
       " 'richard': 1,\n",
       " 'mcclintock': 1,\n",
       " 'professor': 1,\n",
       " 'hampden-sydney': 1,\n",
       " 'college': 1,\n",
       " 'virginia': 1,\n",
       " 'looked': 1,\n",
       " 'up': 1,\n",
       " 'one': 1,\n",
       " 'obscure': 1,\n",
       " 'words': 4,\n",
       " 'consectetur': 1,\n",
       " 'passage': 2,\n",
       " 'going': 2,\n",
       " 'through': 1,\n",
       " 'cites': 1,\n",
       " 'word': 1,\n",
       " 'discovered': 1,\n",
       " 'undoubtable': 1,\n",
       " 'source': 1,\n",
       " 'comes': 2,\n",
       " 'sections': 2,\n",
       " '1.10.32': 3,\n",
       " '1.10.33': 2,\n",
       " 'de': 2,\n",
       " 'finibus': 2,\n",
       " 'bonorum': 2,\n",
       " 'et': 2,\n",
       " 'malorum': 2,\n",
       " 'extremes': 1,\n",
       " 'good': 1,\n",
       " 'evil': 1,\n",
       " 'cicero': 2,\n",
       " 'written': 1,\n",
       " 'this': 2,\n",
       " 'treatise': 1,\n",
       " 'theory': 1,\n",
       " 'ethics': 1,\n",
       " 'very': 1,\n",
       " 'during': 1,\n",
       " 'renaissance': 1,\n",
       " 'first': 2,\n",
       " 'line': 2,\n",
       " 'dolor': 1,\n",
       " 'sit': 1,\n",
       " 'amet': 1,\n",
       " 'section': 1,\n",
       " 'chunk': 1,\n",
       " 'used': 1,\n",
       " 'reproduced': 2,\n",
       " 'below': 1,\n",
       " 'those': 1,\n",
       " 'interested': 1,\n",
       " 'are': 3,\n",
       " 'exact': 1,\n",
       " 'original': 1,\n",
       " 'form': 2,\n",
       " 'accompanied': 1,\n",
       " '1914': 1,\n",
       " 'translation': 1,\n",
       " 'h': 1,\n",
       " 'rackham': 1,\n",
       " 'can': 1,\n",
       " 'i': 1,\n",
       " 'get': 1,\n",
       " 'some': 2,\n",
       " 'there': 2,\n",
       " 'variations': 1,\n",
       " 'available': 1,\n",
       " 'majority': 1,\n",
       " 'suffered': 1,\n",
       " 'alteration': 1,\n",
       " 'or': 2,\n",
       " 'randomised': 1,\n",
       " 'which': 2,\n",
       " \"don't\": 1,\n",
       " 'even': 1,\n",
       " 'slightly': 1,\n",
       " 'believable': 1,\n",
       " 'if': 1,\n",
       " 'you': 2,\n",
       " 'need': 1,\n",
       " 'sure': 1,\n",
       " \"isn't\": 1,\n",
       " 'anything': 1,\n",
       " 'embarrassing': 1,\n",
       " 'hidden': 1,\n",
       " 'middle': 1,\n",
       " 'all': 1,\n",
       " 'generators': 1,\n",
       " 'internet': 2,\n",
       " 'tend': 1,\n",
       " 'repeat': 1,\n",
       " 'predefined': 1,\n",
       " 'chunks': 1,\n",
       " 'necessary': 1,\n",
       " 'true': 1,\n",
       " 'generator': 1,\n",
       " 'uses': 1,\n",
       " 'dictionary': 1,\n",
       " '200': 1,\n",
       " 'combined': 1,\n",
       " 'handful': 1,\n",
       " 'sentence': 1,\n",
       " 'structures': 1,\n",
       " 'generate': 1,\n",
       " 'looks': 1,\n",
       " 'reasonable': 1,\n",
       " 'generated': 1,\n",
       " 'therefore': 1,\n",
       " 'always': 1,\n",
       " 'free': 1,\n",
       " 'repetition': 1,\n",
       " 'non-characteristic': 1,\n",
       " 'etc': 1}"
      ]
     },
     "execution_count": 155,
     "metadata": {},
     "output_type": "execute_result"
    }
   ],
   "source": [
    "word_dict = {}\n",
    "for word in words:\n",
    "    if word in word_dict.keys():\n",
    "        word_dict[word] += 1\n",
    "    else:\n",
    "        word_dict[word] = 1\n",
    "\n",
    "word_dict"
   ]
  },
  {
   "cell_type": "code",
   "execution_count": 156,
   "metadata": {},
   "outputs": [
    {
     "data": {
      "text/plain": [
       "[('the', 28),\n",
       " ('of', 21),\n",
       " ('lorem', 19),\n",
       " ('ipsum', 19),\n",
       " ('a', 15),\n",
       " ('it', 11),\n",
       " ('and', 10),\n",
       " ('in', 10),\n",
       " ('is', 8),\n",
       " ('from', 8)]"
      ]
     },
     "execution_count": 156,
     "metadata": {},
     "output_type": "execute_result"
    }
   ],
   "source": [
    "import operator\n",
    "\n",
    "sorted_word_dict = sorted(word_dict.items(), key=operator.itemgetter(1), reverse=True)\n",
    "sorted_word_dict[:10]"
   ]
  },
  {
   "cell_type": "code",
   "execution_count": null,
   "metadata": {},
   "outputs": [],
   "source": [
    "# import requests\n",
    "# from bs4 import BeautifulSoup\n",
    "\n",
    "# url = 'https://www.lipsum.com/'\n",
    "\n",
    "# response = requests.get(url)\n",
    "\n",
    "# if response.status_code == 200:\n",
    "#     html = response.text\n",
    "#     soup = BeautifulSoup(html, 'html.parser')\n",
    "#     print(soup)\n",
    "\n",
    "# else : \n",
    "#     print(response.status_code)"
   ]
  }
 ],
 "metadata": {
  "interpreter": {
   "hash": "57728f4bfd9bc978c25d5c9cdcf277be28bad00a01dc89349b2fca774db23ac6"
  },
  "kernelspec": {
   "display_name": "Python 3.8.8 64-bit ('base': conda)",
   "language": "python",
   "name": "python3"
  },
  "language_info": {
   "codemirror_mode": {
    "name": "ipython",
    "version": 3
   },
   "file_extension": ".py",
   "mimetype": "text/x-python",
   "name": "python",
   "nbconvert_exporter": "python",
   "pygments_lexer": "ipython3",
   "version": "3.8.8"
  },
  "orig_nbformat": 4
 },
 "nbformat": 4,
 "nbformat_minor": 2
}
